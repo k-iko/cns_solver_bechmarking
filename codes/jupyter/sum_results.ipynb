{
 "cells": [
  {
   "cell_type": "code",
   "execution_count": 25,
   "metadata": {},
   "outputs": [],
   "source": [
    "import os\n",
    "import pandas as pd\n",
    "import numpy as np"
   ]
  },
  {
   "cell_type": "code",
   "execution_count": 26,
   "metadata": {},
   "outputs": [],
   "source": [
    "num_cust= '200cust'\n",
    "RATE_NAME = 'rate1'\n",
    "DATA_DIR_PATH = f'results/comparison/{num_cust}'\n",
    "INSTANCE_NAME = 'C1_2_1'"
   ]
  },
  {
   "cell_type": "code",
   "execution_count": 27,
   "metadata": {},
   "outputs": [
    {
     "data": {
      "text/html": [
       "<div>\n",
       "<style scoped>\n",
       "    .dataframe tbody tr th:only-of-type {\n",
       "        vertical-align: middle;\n",
       "    }\n",
       "\n",
       "    .dataframe tbody tr th {\n",
       "        vertical-align: top;\n",
       "    }\n",
       "\n",
       "    .dataframe thead th {\n",
       "        text-align: right;\n",
       "    }\n",
       "</style>\n",
       "<table border=\"1\" class=\"dataframe\">\n",
       "  <thead>\n",
       "    <tr style=\"text-align: right;\">\n",
       "      <th></th>\n",
       "      <th>CARG</th>\n",
       "      <th>ORTools</th>\n",
       "      <th>Optimal Sol</th>\n",
       "      <th>difference1</th>\n",
       "      <th>rate1</th>\n",
       "      <th>difference2</th>\n",
       "      <th>rate2</th>\n",
       "      <th>difference3</th>\n",
       "      <th>rate3</th>\n",
       "    </tr>\n",
       "  </thead>\n",
       "  <tbody>\n",
       "    <tr>\n",
       "      <th>TOTALCOST</th>\n",
       "      <td>2704.567766</td>\n",
       "      <td>2707.415062</td>\n",
       "      <td>2704.57</td>\n",
       "      <td>-2.847296</td>\n",
       "      <td>-0.105167</td>\n",
       "      <td>-0.002234</td>\n",
       "      <td>-0.000083</td>\n",
       "      <td>2.845062</td>\n",
       "      <td>0.105195</td>\n",
       "    </tr>\n",
       "    <tr>\n",
       "      <th>TOTAL_NUMBER_OF VEHICLES</th>\n",
       "      <td>20.000000</td>\n",
       "      <td>20.000000</td>\n",
       "      <td>20.00</td>\n",
       "      <td>0.000000</td>\n",
       "      <td>0.000000</td>\n",
       "      <td>0.000000</td>\n",
       "      <td>0.000000</td>\n",
       "      <td>0.000000</td>\n",
       "      <td>0.000000</td>\n",
       "    </tr>\n",
       "    <tr>\n",
       "      <th>CONSTRUCTION_TIME</th>\n",
       "      <td>2.800000</td>\n",
       "      <td>NaN</td>\n",
       "      <td>NaN</td>\n",
       "      <td>NaN</td>\n",
       "      <td>NaN</td>\n",
       "      <td>NaN</td>\n",
       "      <td>NaN</td>\n",
       "      <td>NaN</td>\n",
       "      <td>NaN</td>\n",
       "    </tr>\n",
       "    <tr>\n",
       "      <th>IMPROVEMENT_TIME</th>\n",
       "      <td>102.700000</td>\n",
       "      <td>NaN</td>\n",
       "      <td>NaN</td>\n",
       "      <td>NaN</td>\n",
       "      <td>NaN</td>\n",
       "      <td>NaN</td>\n",
       "      <td>NaN</td>\n",
       "      <td>NaN</td>\n",
       "      <td>NaN</td>\n",
       "    </tr>\n",
       "    <tr>\n",
       "      <th>ELAPSED_TIME</th>\n",
       "      <td>105.500000</td>\n",
       "      <td>10.526384</td>\n",
       "      <td>NaN</td>\n",
       "      <td>94.973616</td>\n",
       "      <td>902.243472</td>\n",
       "      <td>NaN</td>\n",
       "      <td>NaN</td>\n",
       "      <td>NaN</td>\n",
       "      <td>NaN</td>\n",
       "    </tr>\n",
       "  </tbody>\n",
       "</table>\n",
       "</div>"
      ],
      "text/plain": [
       "                                 CARG      ORTools  Optimal Sol  difference1  \\\n",
       "TOTALCOST                 2704.567766  2707.415062      2704.57    -2.847296   \n",
       "TOTAL_NUMBER_OF VEHICLES    20.000000    20.000000        20.00     0.000000   \n",
       "CONSTRUCTION_TIME            2.800000          NaN          NaN          NaN   \n",
       "IMPROVEMENT_TIME           102.700000          NaN          NaN          NaN   \n",
       "ELAPSED_TIME               105.500000    10.526384          NaN    94.973616   \n",
       "\n",
       "                               rate1  difference2     rate2  difference3  \\\n",
       "TOTALCOST                  -0.105167    -0.002234 -0.000083     2.845062   \n",
       "TOTAL_NUMBER_OF VEHICLES    0.000000     0.000000  0.000000     0.000000   \n",
       "CONSTRUCTION_TIME                NaN          NaN       NaN          NaN   \n",
       "IMPROVEMENT_TIME                 NaN          NaN       NaN          NaN   \n",
       "ELAPSED_TIME              902.243472          NaN       NaN          NaN   \n",
       "\n",
       "                             rate3  \n",
       "TOTALCOST                 0.105195  \n",
       "TOTAL_NUMBER_OF VEHICLES  0.000000  \n",
       "CONSTRUCTION_TIME              NaN  \n",
       "IMPROVEMENT_TIME               NaN  \n",
       "ELAPSED_TIME                   NaN  "
      ]
     },
     "metadata": {},
     "output_type": "display_data"
    },
    {
     "data": {
      "text/plain": [
       "{'TOTALCOST': -0.1051665757660373,\n",
       " 'TOTAL_NUMBER_OF VEHICLES': 0.0,\n",
       " 'CONSTRUCTION_TIME': nan,\n",
       " 'IMPROVEMENT_TIME': nan,\n",
       " 'ELAPSED_TIME': 902.243471791351}"
      ]
     },
     "execution_count": 27,
     "metadata": {},
     "output_type": "execute_result"
    }
   ],
   "source": [
    "result_file_path = os.path.join(\n",
    "    DATA_DIR_PATH, f'{INSTANCE_NAME}_comparison_result.csv'\n",
    ")\n",
    "result_df = pd.read_csv(result_file_path, header=0, index_col=0)\n",
    "rate_df = result_df[RATE_NAME]\n",
    "display(result_df)\n",
    "rate_dict = rate_df.to_dict()\n",
    "rate_dict\n",
    "# result_df"
   ]
  },
  {
   "cell_type": "code",
   "execution_count": 28,
   "metadata": {},
   "outputs": [],
   "source": [
    "def total(instance_name, rate_name):\n",
    "    DATA_DIR_PATH = f'results/comparison/{num_cust}'\n",
    "    result_file_path = os.path.join(\n",
    "        DATA_DIR_PATH, f'{instance_name}_comparison_result.csv'\n",
    "    )\n",
    "    if os.path.exists(result_file_path):\n",
    "        result_df = pd.read_csv(result_file_path, header=0, index_col=0)\n",
    "        # 'rate1':rate of differences between cns and ortools\n",
    "        # 'rate2':rate of differences between cns and optimal solution\n",
    "        # 'rate2':rate of differences between ortools and optimal solution\n",
    "        rate_df = result_df[rate_name] \n",
    "        rate_dict = rate_df.to_dict()\n",
    "        \n",
    "        # In[62]:\n",
    "        new_row = {'case':instance_name}\n",
    "        new_row.update(rate_dict)\n",
    "        return new_row\n",
    "    else:\n",
    "        return 0"
   ]
  },
  {
   "cell_type": "code",
   "execution_count": 29,
   "metadata": {},
   "outputs": [
    {
     "data": {
      "text/plain": [
       "{'case': 'C1_2_1',\n",
       " 'TOTALCOST': -0.1051665757660373,\n",
       " 'TOTAL_NUMBER_OF VEHICLES': 0.0,\n",
       " 'CONSTRUCTION_TIME': nan,\n",
       " 'IMPROVEMENT_TIME': nan,\n",
       " 'ELAPSED_TIME': 902.243471791351}"
      ]
     },
     "execution_count": 29,
     "metadata": {},
     "output_type": "execute_result"
    }
   ],
   "source": [
    "total(INSTANCE_NAME, RATE_NAME)"
   ]
  },
  {
   "cell_type": "code",
   "execution_count": 30,
   "metadata": {},
   "outputs": [
    {
     "data": {
      "text/plain": [
       "{'case': 'C1_2_1',\n",
       " 'TOTALCOST': -0.1051665757660373,\n",
       " 'TOTAL_NUMBER_OF VEHICLES': 0.0,\n",
       " 'CONSTRUCTION_TIME': nan,\n",
       " 'IMPROVEMENT_TIME': nan,\n",
       " 'ELAPSED_TIME': 902.243471791351}"
      ]
     },
     "execution_count": 30,
     "metadata": {},
     "output_type": "execute_result"
    }
   ],
   "source": [
    "new_row = {'case':INSTANCE_NAME}\n",
    "new_row.update(rate_dict)\n",
    "new_row"
   ]
  },
  {
   "cell_type": "code",
   "execution_count": 31,
   "metadata": {},
   "outputs": [
    {
     "data": {
      "text/html": [
       "<div>\n",
       "<style scoped>\n",
       "    .dataframe tbody tr th:only-of-type {\n",
       "        vertical-align: middle;\n",
       "    }\n",
       "\n",
       "    .dataframe tbody tr th {\n",
       "        vertical-align: top;\n",
       "    }\n",
       "\n",
       "    .dataframe thead th {\n",
       "        text-align: right;\n",
       "    }\n",
       "</style>\n",
       "<table border=\"1\" class=\"dataframe\">\n",
       "  <thead>\n",
       "    <tr style=\"text-align: right;\">\n",
       "      <th></th>\n",
       "      <th>case</th>\n",
       "      <th>TOTALCOST</th>\n",
       "      <th>TOTAL_NUMBER_OF VEHICLES</th>\n",
       "      <th>CONSTRUCTION_TIME</th>\n",
       "      <th>IMPROVEMENT_TIME</th>\n",
       "      <th>ELAPSED_TIME</th>\n",
       "    </tr>\n",
       "  </thead>\n",
       "  <tbody>\n",
       "  </tbody>\n",
       "</table>\n",
       "</div>"
      ],
      "text/plain": [
       "Empty DataFrame\n",
       "Columns: [case, TOTALCOST, TOTAL_NUMBER_OF VEHICLES, CONSTRUCTION_TIME, IMPROVEMENT_TIME, ELAPSED_TIME]\n",
       "Index: []"
      ]
     },
     "execution_count": 31,
     "metadata": {},
     "output_type": "execute_result"
    }
   ],
   "source": [
    "df = pd.DataFrame(columns=[\n",
    "    'case',\n",
    "    'TOTALCOST',\n",
    "    'TOTAL_NUMBER_OF VEHICLES',\n",
    "    'CONSTRUCTION_TIME',\n",
    "    'IMPROVEMENT_TIME',\n",
    "    'ELAPSED_TIME'])\n",
    "df"
   ]
  },
  {
   "cell_type": "code",
   "execution_count": 32,
   "metadata": {},
   "outputs": [
    {
     "data": {
      "text/html": [
       "<div>\n",
       "<style scoped>\n",
       "    .dataframe tbody tr th:only-of-type {\n",
       "        vertical-align: middle;\n",
       "    }\n",
       "\n",
       "    .dataframe tbody tr th {\n",
       "        vertical-align: top;\n",
       "    }\n",
       "\n",
       "    .dataframe thead th {\n",
       "        text-align: right;\n",
       "    }\n",
       "</style>\n",
       "<table border=\"1\" class=\"dataframe\">\n",
       "  <thead>\n",
       "    <tr style=\"text-align: right;\">\n",
       "      <th></th>\n",
       "      <th>case</th>\n",
       "      <th>TOTALCOST</th>\n",
       "      <th>TOTAL_NUMBER_OF VEHICLES</th>\n",
       "      <th>CONSTRUCTION_TIME</th>\n",
       "      <th>IMPROVEMENT_TIME</th>\n",
       "      <th>ELAPSED_TIME</th>\n",
       "    </tr>\n",
       "  </thead>\n",
       "  <tbody>\n",
       "    <tr>\n",
       "      <th>0</th>\n",
       "      <td>C1_2_1</td>\n",
       "      <td>-0.105167</td>\n",
       "      <td>0.0</td>\n",
       "      <td>NaN</td>\n",
       "      <td>NaN</td>\n",
       "      <td>902.243472</td>\n",
       "    </tr>\n",
       "  </tbody>\n",
       "</table>\n",
       "</div>"
      ],
      "text/plain": [
       "     case  TOTALCOST  TOTAL_NUMBER_OF VEHICLES  CONSTRUCTION_TIME  \\\n",
       "0  C1_2_1  -0.105167                       0.0                NaN   \n",
       "\n",
       "   IMPROVEMENT_TIME  ELAPSED_TIME  \n",
       "0               NaN    902.243472  "
      ]
     },
     "execution_count": 32,
     "metadata": {},
     "output_type": "execute_result"
    }
   ],
   "source": [
    "# df.append(new_row, ignore_index=True)\n",
    "df_add = pd.DataFrame(new_row, index=[0])\n",
    "df = pd.concat([df,df_add], ignore_index=True)\n",
    "df"
   ]
  },
  {
   "cell_type": "code",
   "execution_count": 33,
   "metadata": {},
   "outputs": [
    {
     "data": {
      "text/html": [
       "<div>\n",
       "<style scoped>\n",
       "    .dataframe tbody tr th:only-of-type {\n",
       "        vertical-align: middle;\n",
       "    }\n",
       "\n",
       "    .dataframe tbody tr th {\n",
       "        vertical-align: top;\n",
       "    }\n",
       "\n",
       "    .dataframe thead th {\n",
       "        text-align: right;\n",
       "    }\n",
       "</style>\n",
       "<table border=\"1\" class=\"dataframe\">\n",
       "  <thead>\n",
       "    <tr style=\"text-align: right;\">\n",
       "      <th></th>\n",
       "      <th>TOTALCOST</th>\n",
       "      <th>TOTAL_NUMBER_OF VEHICLES</th>\n",
       "      <th>CONSTRUCTION_TIME</th>\n",
       "      <th>IMPROVEMENT_TIME</th>\n",
       "      <th>ELAPSED_TIME</th>\n",
       "    </tr>\n",
       "    <tr>\n",
       "      <th>case</th>\n",
       "      <th></th>\n",
       "      <th></th>\n",
       "      <th></th>\n",
       "      <th></th>\n",
       "      <th></th>\n",
       "    </tr>\n",
       "  </thead>\n",
       "  <tbody>\n",
       "    <tr>\n",
       "      <th>C1_2_1</th>\n",
       "      <td>-0.105167</td>\n",
       "      <td>0.0</td>\n",
       "      <td>NaN</td>\n",
       "      <td>NaN</td>\n",
       "      <td>902.243472</td>\n",
       "    </tr>\n",
       "  </tbody>\n",
       "</table>\n",
       "</div>"
      ],
      "text/plain": [
       "        TOTALCOST  TOTAL_NUMBER_OF VEHICLES  CONSTRUCTION_TIME  \\\n",
       "case                                                             \n",
       "C1_2_1  -0.105167                       0.0                NaN   \n",
       "\n",
       "        IMPROVEMENT_TIME  ELAPSED_TIME  \n",
       "case                                    \n",
       "C1_2_1               NaN    902.243472  "
      ]
     },
     "execution_count": 33,
     "metadata": {},
     "output_type": "execute_result"
    }
   ],
   "source": [
    "df.set_index('case')"
   ]
  },
  {
   "cell_type": "code",
   "execution_count": null,
   "metadata": {},
   "outputs": [],
   "source": []
  },
  {
   "cell_type": "code",
   "execution_count": null,
   "metadata": {},
   "outputs": [],
   "source": []
  }
 ],
 "metadata": {
  "kernelspec": {
   "display_name": ".venv",
   "language": "python",
   "name": "python3"
  },
  "language_info": {
   "codemirror_mode": {
    "name": "ipython",
    "version": 3
   },
   "file_extension": ".py",
   "mimetype": "text/x-python",
   "name": "python",
   "nbconvert_exporter": "python",
   "pygments_lexer": "ipython3",
   "version": "3.9.8"
  }
 },
 "nbformat": 4,
 "nbformat_minor": 2
}
