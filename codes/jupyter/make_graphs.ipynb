{
 "cells": [
  {
   "cell_type": "code",
   "execution_count": 5,
   "metadata": {},
   "outputs": [],
   "source": [
    "import os\n",
    "import pandas as pd\n",
    "import numpy as np\n",
    "import matplotlib.pyplot as plt\n",
    "import plotly.graph_objects as go"
   ]
  },
  {
   "cell_type": "code",
   "execution_count": 6,
   "metadata": {},
   "outputs": [],
   "source": [
    "num_cust = '100cust'\n",
    "rate_name = 'rate1'\n",
    "# RATE_NAMES = ['rate1', 'rate2', 'rate3']\n",
    "group_name = 'total'\n",
    "# GROUP_NAMES = ['total', 'c', 'r', 'rc']"
   ]
  },
  {
   "cell_type": "code",
   "execution_count": 7,
   "metadata": {},
   "outputs": [
    {
     "data": {
      "text/html": [
       "<div>\n",
       "<style scoped>\n",
       "    .dataframe tbody tr th:only-of-type {\n",
       "        vertical-align: middle;\n",
       "    }\n",
       "\n",
       "    .dataframe tbody tr th {\n",
       "        vertical-align: top;\n",
       "    }\n",
       "\n",
       "    .dataframe thead th {\n",
       "        text-align: right;\n",
       "    }\n",
       "</style>\n",
       "<table border=\"1\" class=\"dataframe\">\n",
       "  <thead>\n",
       "    <tr style=\"text-align: right;\">\n",
       "      <th></th>\n",
       "      <th>case</th>\n",
       "      <th>TOTALCOST</th>\n",
       "      <th>TOTAL_NUMBER_OF VEHICLES</th>\n",
       "      <th>CONSTRUCTION_TIME</th>\n",
       "      <th>IMPROVEMENT_TIME</th>\n",
       "      <th>ELAPSED_TIME</th>\n",
       "    </tr>\n",
       "  </thead>\n",
       "  <tbody>\n",
       "    <tr>\n",
       "      <th>0</th>\n",
       "      <td>c101</td>\n",
       "      <td>3.061412e+00</td>\n",
       "      <td>0.000000</td>\n",
       "      <td>NaN</td>\n",
       "      <td>NaN</td>\n",
       "      <td>2682.041703</td>\n",
       "    </tr>\n",
       "    <tr>\n",
       "      <th>1</th>\n",
       "      <td>c102</td>\n",
       "      <td>7.417520e+00</td>\n",
       "      <td>0.000000</td>\n",
       "      <td>NaN</td>\n",
       "      <td>NaN</td>\n",
       "      <td>3912.313832</td>\n",
       "    </tr>\n",
       "    <tr>\n",
       "      <th>2</th>\n",
       "      <td>c103</td>\n",
       "      <td>1.204298e+01</td>\n",
       "      <td>0.000000</td>\n",
       "      <td>NaN</td>\n",
       "      <td>NaN</td>\n",
       "      <td>3029.813101</td>\n",
       "    </tr>\n",
       "    <tr>\n",
       "      <th>3</th>\n",
       "      <td>c104</td>\n",
       "      <td>2.623815e+00</td>\n",
       "      <td>0.000000</td>\n",
       "      <td>NaN</td>\n",
       "      <td>NaN</td>\n",
       "      <td>3561.331050</td>\n",
       "    </tr>\n",
       "    <tr>\n",
       "      <th>4</th>\n",
       "      <td>c105</td>\n",
       "      <td>1.371478e-14</td>\n",
       "      <td>0.000000</td>\n",
       "      <td>NaN</td>\n",
       "      <td>NaN</td>\n",
       "      <td>3698.019394</td>\n",
       "    </tr>\n",
       "    <tr>\n",
       "      <th>5</th>\n",
       "      <td>c106</td>\n",
       "      <td>0.000000e+00</td>\n",
       "      <td>0.000000</td>\n",
       "      <td>NaN</td>\n",
       "      <td>NaN</td>\n",
       "      <td>7234.236452</td>\n",
       "    </tr>\n",
       "    <tr>\n",
       "      <th>6</th>\n",
       "      <td>c107</td>\n",
       "      <td>3.061412e+00</td>\n",
       "      <td>0.000000</td>\n",
       "      <td>NaN</td>\n",
       "      <td>NaN</td>\n",
       "      <td>3934.061120</td>\n",
       "    </tr>\n",
       "    <tr>\n",
       "      <th>7</th>\n",
       "      <td>c108</td>\n",
       "      <td>5.935980e-01</td>\n",
       "      <td>0.000000</td>\n",
       "      <td>NaN</td>\n",
       "      <td>NaN</td>\n",
       "      <td>4684.841889</td>\n",
       "    </tr>\n",
       "    <tr>\n",
       "      <th>8</th>\n",
       "      <td>c109</td>\n",
       "      <td>-1.282967e+01</td>\n",
       "      <td>0.000000</td>\n",
       "      <td>NaN</td>\n",
       "      <td>NaN</td>\n",
       "      <td>4524.292785</td>\n",
       "    </tr>\n",
       "    <tr>\n",
       "      <th>9</th>\n",
       "      <td>c201</td>\n",
       "      <td>0.000000e+00</td>\n",
       "      <td>0.000000</td>\n",
       "      <td>NaN</td>\n",
       "      <td>NaN</td>\n",
       "      <td>12282.828957</td>\n",
       "    </tr>\n",
       "    <tr>\n",
       "      <th>10</th>\n",
       "      <td>c202</td>\n",
       "      <td>1.311776e+01</td>\n",
       "      <td>33.333333</td>\n",
       "      <td>NaN</td>\n",
       "      <td>NaN</td>\n",
       "      <td>18244.244134</td>\n",
       "    </tr>\n",
       "    <tr>\n",
       "      <th>11</th>\n",
       "      <td>c203</td>\n",
       "      <td>9.011129e+00</td>\n",
       "      <td>33.333333</td>\n",
       "      <td>NaN</td>\n",
       "      <td>NaN</td>\n",
       "      <td>13828.678458</td>\n",
       "    </tr>\n",
       "    <tr>\n",
       "      <th>12</th>\n",
       "      <td>c204</td>\n",
       "      <td>8.373998e+00</td>\n",
       "      <td>0.000000</td>\n",
       "      <td>NaN</td>\n",
       "      <td>NaN</td>\n",
       "      <td>22809.817212</td>\n",
       "    </tr>\n",
       "    <tr>\n",
       "      <th>13</th>\n",
       "      <td>c205</td>\n",
       "      <td>-1.865682e-14</td>\n",
       "      <td>0.000000</td>\n",
       "      <td>NaN</td>\n",
       "      <td>NaN</td>\n",
       "      <td>20049.131004</td>\n",
       "    </tr>\n",
       "    <tr>\n",
       "      <th>14</th>\n",
       "      <td>c206</td>\n",
       "      <td>6.510086e-02</td>\n",
       "      <td>0.000000</td>\n",
       "      <td>NaN</td>\n",
       "      <td>NaN</td>\n",
       "      <td>35171.529645</td>\n",
       "    </tr>\n",
       "    <tr>\n",
       "      <th>15</th>\n",
       "      <td>c207</td>\n",
       "      <td>3.960878e+00</td>\n",
       "      <td>0.000000</td>\n",
       "      <td>NaN</td>\n",
       "      <td>NaN</td>\n",
       "      <td>26363.708084</td>\n",
       "    </tr>\n",
       "    <tr>\n",
       "      <th>16</th>\n",
       "      <td>c208</td>\n",
       "      <td>4.445235e+00</td>\n",
       "      <td>0.000000</td>\n",
       "      <td>NaN</td>\n",
       "      <td>NaN</td>\n",
       "      <td>25488.252283</td>\n",
       "    </tr>\n",
       "    <tr>\n",
       "      <th>17</th>\n",
       "      <td>r101</td>\n",
       "      <td>-8.486986e-02</td>\n",
       "      <td>5.000000</td>\n",
       "      <td>NaN</td>\n",
       "      <td>NaN</td>\n",
       "      <td>1725.516549</td>\n",
       "    </tr>\n",
       "    <tr>\n",
       "      <th>18</th>\n",
       "      <td>r102</td>\n",
       "      <td>-1.839284e+00</td>\n",
       "      <td>0.000000</td>\n",
       "      <td>NaN</td>\n",
       "      <td>NaN</td>\n",
       "      <td>4304.183493</td>\n",
       "    </tr>\n",
       "    <tr>\n",
       "      <th>19</th>\n",
       "      <td>r103</td>\n",
       "      <td>6.211485e+00</td>\n",
       "      <td>13.333333</td>\n",
       "      <td>NaN</td>\n",
       "      <td>NaN</td>\n",
       "      <td>6280.000949</td>\n",
       "    </tr>\n",
       "    <tr>\n",
       "      <th>20</th>\n",
       "      <td>r104</td>\n",
       "      <td>7.263667e+00</td>\n",
       "      <td>-8.333333</td>\n",
       "      <td>NaN</td>\n",
       "      <td>NaN</td>\n",
       "      <td>4242.970517</td>\n",
       "    </tr>\n",
       "    <tr>\n",
       "      <th>21</th>\n",
       "      <td>r105</td>\n",
       "      <td>-3.912587e+00</td>\n",
       "      <td>-6.250000</td>\n",
       "      <td>NaN</td>\n",
       "      <td>NaN</td>\n",
       "      <td>3905.003072</td>\n",
       "    </tr>\n",
       "    <tr>\n",
       "      <th>22</th>\n",
       "      <td>r106</td>\n",
       "      <td>1.366724e+00</td>\n",
       "      <td>0.000000</td>\n",
       "      <td>NaN</td>\n",
       "      <td>NaN</td>\n",
       "      <td>4576.918012</td>\n",
       "    </tr>\n",
       "    <tr>\n",
       "      <th>23</th>\n",
       "      <td>r107</td>\n",
       "      <td>-8.112059e-01</td>\n",
       "      <td>8.333333</td>\n",
       "      <td>NaN</td>\n",
       "      <td>NaN</td>\n",
       "      <td>5885.298392</td>\n",
       "    </tr>\n",
       "    <tr>\n",
       "      <th>24</th>\n",
       "      <td>r108</td>\n",
       "      <td>1.631560e+00</td>\n",
       "      <td>-9.090909</td>\n",
       "      <td>NaN</td>\n",
       "      <td>NaN</td>\n",
       "      <td>4050.378915</td>\n",
       "    </tr>\n",
       "    <tr>\n",
       "      <th>25</th>\n",
       "      <td>r109</td>\n",
       "      <td>-5.250243e+00</td>\n",
       "      <td>-7.142857</td>\n",
       "      <td>NaN</td>\n",
       "      <td>NaN</td>\n",
       "      <td>5031.117465</td>\n",
       "    </tr>\n",
       "    <tr>\n",
       "      <th>26</th>\n",
       "      <td>r110</td>\n",
       "      <td>-9.757638e+00</td>\n",
       "      <td>0.000000</td>\n",
       "      <td>NaN</td>\n",
       "      <td>NaN</td>\n",
       "      <td>4909.791743</td>\n",
       "    </tr>\n",
       "    <tr>\n",
       "      <th>27</th>\n",
       "      <td>r111</td>\n",
       "      <td>3.236868e+00</td>\n",
       "      <td>0.000000</td>\n",
       "      <td>NaN</td>\n",
       "      <td>NaN</td>\n",
       "      <td>3558.464535</td>\n",
       "    </tr>\n",
       "    <tr>\n",
       "      <th>28</th>\n",
       "      <td>r112</td>\n",
       "      <td>6.284165e+00</td>\n",
       "      <td>9.090909</td>\n",
       "      <td>NaN</td>\n",
       "      <td>NaN</td>\n",
       "      <td>4298.487072</td>\n",
       "    </tr>\n",
       "    <tr>\n",
       "      <th>29</th>\n",
       "      <td>r201</td>\n",
       "      <td>-2.211567e+00</td>\n",
       "      <td>0.000000</td>\n",
       "      <td>NaN</td>\n",
       "      <td>NaN</td>\n",
       "      <td>16788.710863</td>\n",
       "    </tr>\n",
       "    <tr>\n",
       "      <th>30</th>\n",
       "      <td>r202</td>\n",
       "      <td>1.000670e+01</td>\n",
       "      <td>-33.333333</td>\n",
       "      <td>NaN</td>\n",
       "      <td>NaN</td>\n",
       "      <td>17906.851680</td>\n",
       "    </tr>\n",
       "    <tr>\n",
       "      <th>31</th>\n",
       "      <td>r203</td>\n",
       "      <td>4.177353e+00</td>\n",
       "      <td>-33.333333</td>\n",
       "      <td>NaN</td>\n",
       "      <td>NaN</td>\n",
       "      <td>27624.339362</td>\n",
       "    </tr>\n",
       "    <tr>\n",
       "      <th>32</th>\n",
       "      <td>r204</td>\n",
       "      <td>-6.400786e+00</td>\n",
       "      <td>-40.000000</td>\n",
       "      <td>NaN</td>\n",
       "      <td>NaN</td>\n",
       "      <td>45503.737118</td>\n",
       "    </tr>\n",
       "    <tr>\n",
       "      <th>33</th>\n",
       "      <td>r205</td>\n",
       "      <td>4.663550e+00</td>\n",
       "      <td>-20.000000</td>\n",
       "      <td>NaN</td>\n",
       "      <td>NaN</td>\n",
       "      <td>19736.520992</td>\n",
       "    </tr>\n",
       "    <tr>\n",
       "      <th>34</th>\n",
       "      <td>r206</td>\n",
       "      <td>-5.273014e+00</td>\n",
       "      <td>33.333333</td>\n",
       "      <td>NaN</td>\n",
       "      <td>NaN</td>\n",
       "      <td>24202.865842</td>\n",
       "    </tr>\n",
       "    <tr>\n",
       "      <th>35</th>\n",
       "      <td>r207</td>\n",
       "      <td>1.379677e+01</td>\n",
       "      <td>0.000000</td>\n",
       "      <td>NaN</td>\n",
       "      <td>NaN</td>\n",
       "      <td>37848.410648</td>\n",
       "    </tr>\n",
       "    <tr>\n",
       "      <th>36</th>\n",
       "      <td>r208</td>\n",
       "      <td>-7.135138e+00</td>\n",
       "      <td>0.000000</td>\n",
       "      <td>NaN</td>\n",
       "      <td>NaN</td>\n",
       "      <td>55138.642832</td>\n",
       "    </tr>\n",
       "    <tr>\n",
       "      <th>37</th>\n",
       "      <td>r209</td>\n",
       "      <td>1.944862e+01</td>\n",
       "      <td>-25.000000</td>\n",
       "      <td>NaN</td>\n",
       "      <td>NaN</td>\n",
       "      <td>18766.260567</td>\n",
       "    </tr>\n",
       "    <tr>\n",
       "      <th>38</th>\n",
       "      <td>r210</td>\n",
       "      <td>2.181312e+00</td>\n",
       "      <td>-33.333333</td>\n",
       "      <td>NaN</td>\n",
       "      <td>NaN</td>\n",
       "      <td>25184.204968</td>\n",
       "    </tr>\n",
       "    <tr>\n",
       "      <th>39</th>\n",
       "      <td>r211</td>\n",
       "      <td>9.554654e+00</td>\n",
       "      <td>0.000000</td>\n",
       "      <td>NaN</td>\n",
       "      <td>NaN</td>\n",
       "      <td>27510.365003</td>\n",
       "    </tr>\n",
       "    <tr>\n",
       "      <th>40</th>\n",
       "      <td>rc101</td>\n",
       "      <td>4.884856e-01</td>\n",
       "      <td>5.882353</td>\n",
       "      <td>NaN</td>\n",
       "      <td>NaN</td>\n",
       "      <td>3670.044255</td>\n",
       "    </tr>\n",
       "    <tr>\n",
       "      <th>41</th>\n",
       "      <td>rc102</td>\n",
       "      <td>1.578558e+00</td>\n",
       "      <td>7.142857</td>\n",
       "      <td>NaN</td>\n",
       "      <td>NaN</td>\n",
       "      <td>3669.555642</td>\n",
       "    </tr>\n",
       "    <tr>\n",
       "      <th>42</th>\n",
       "      <td>rc103</td>\n",
       "      <td>-2.486168e-01</td>\n",
       "      <td>0.000000</td>\n",
       "      <td>NaN</td>\n",
       "      <td>NaN</td>\n",
       "      <td>5207.541129</td>\n",
       "    </tr>\n",
       "    <tr>\n",
       "      <th>43</th>\n",
       "      <td>rc104</td>\n",
       "      <td>2.546031e+00</td>\n",
       "      <td>0.000000</td>\n",
       "      <td>NaN</td>\n",
       "      <td>NaN</td>\n",
       "      <td>1985.219523</td>\n",
       "    </tr>\n",
       "    <tr>\n",
       "      <th>44</th>\n",
       "      <td>rc105</td>\n",
       "      <td>-4.926984e+00</td>\n",
       "      <td>-5.555556</td>\n",
       "      <td>NaN</td>\n",
       "      <td>NaN</td>\n",
       "      <td>3858.560939</td>\n",
       "    </tr>\n",
       "    <tr>\n",
       "      <th>45</th>\n",
       "      <td>rc106</td>\n",
       "      <td>1.184886e+00</td>\n",
       "      <td>-13.333333</td>\n",
       "      <td>NaN</td>\n",
       "      <td>NaN</td>\n",
       "      <td>2912.372909</td>\n",
       "    </tr>\n",
       "    <tr>\n",
       "      <th>46</th>\n",
       "      <td>rc107</td>\n",
       "      <td>-7.500383e-01</td>\n",
       "      <td>-7.142857</td>\n",
       "      <td>NaN</td>\n",
       "      <td>NaN</td>\n",
       "      <td>4298.979644</td>\n",
       "    </tr>\n",
       "    <tr>\n",
       "      <th>47</th>\n",
       "      <td>rc108</td>\n",
       "      <td>6.153316e+00</td>\n",
       "      <td>-7.692308</td>\n",
       "      <td>NaN</td>\n",
       "      <td>NaN</td>\n",
       "      <td>3153.536864</td>\n",
       "    </tr>\n",
       "    <tr>\n",
       "      <th>48</th>\n",
       "      <td>rc201</td>\n",
       "      <td>-6.382928e-01</td>\n",
       "      <td>-28.571429</td>\n",
       "      <td>NaN</td>\n",
       "      <td>NaN</td>\n",
       "      <td>13912.745421</td>\n",
       "    </tr>\n",
       "    <tr>\n",
       "      <th>49</th>\n",
       "      <td>rc202</td>\n",
       "      <td>9.854202e+00</td>\n",
       "      <td>-28.571429</td>\n",
       "      <td>NaN</td>\n",
       "      <td>NaN</td>\n",
       "      <td>15706.161605</td>\n",
       "    </tr>\n",
       "    <tr>\n",
       "      <th>50</th>\n",
       "      <td>rc203</td>\n",
       "      <td>1.899224e+00</td>\n",
       "      <td>-20.000000</td>\n",
       "      <td>NaN</td>\n",
       "      <td>NaN</td>\n",
       "      <td>15208.494834</td>\n",
       "    </tr>\n",
       "    <tr>\n",
       "      <th>51</th>\n",
       "      <td>rc204</td>\n",
       "      <td>-1.096612e+01</td>\n",
       "      <td>0.000000</td>\n",
       "      <td>NaN</td>\n",
       "      <td>NaN</td>\n",
       "      <td>22993.541300</td>\n",
       "    </tr>\n",
       "    <tr>\n",
       "      <th>52</th>\n",
       "      <td>rc205</td>\n",
       "      <td>1.946696e+01</td>\n",
       "      <td>-28.571429</td>\n",
       "      <td>NaN</td>\n",
       "      <td>NaN</td>\n",
       "      <td>8764.496520</td>\n",
       "    </tr>\n",
       "    <tr>\n",
       "      <th>53</th>\n",
       "      <td>rc206</td>\n",
       "      <td>1.227437e+01</td>\n",
       "      <td>-20.000000</td>\n",
       "      <td>NaN</td>\n",
       "      <td>NaN</td>\n",
       "      <td>12146.724527</td>\n",
       "    </tr>\n",
       "    <tr>\n",
       "      <th>54</th>\n",
       "      <td>rc207</td>\n",
       "      <td>3.134006e+00</td>\n",
       "      <td>0.000000</td>\n",
       "      <td>NaN</td>\n",
       "      <td>NaN</td>\n",
       "      <td>16845.108879</td>\n",
       "    </tr>\n",
       "    <tr>\n",
       "      <th>55</th>\n",
       "      <td>rc208</td>\n",
       "      <td>3.881780e+00</td>\n",
       "      <td>0.000000</td>\n",
       "      <td>NaN</td>\n",
       "      <td>NaN</td>\n",
       "      <td>34011.296664</td>\n",
       "    </tr>\n",
       "  </tbody>\n",
       "</table>\n",
       "</div>"
      ],
      "text/plain": [
       "     case     TOTALCOST  TOTAL_NUMBER_OF VEHICLES  CONSTRUCTION_TIME  \\\n",
       "0    c101  3.061412e+00                  0.000000                NaN   \n",
       "1    c102  7.417520e+00                  0.000000                NaN   \n",
       "2    c103  1.204298e+01                  0.000000                NaN   \n",
       "3    c104  2.623815e+00                  0.000000                NaN   \n",
       "4    c105  1.371478e-14                  0.000000                NaN   \n",
       "5    c106  0.000000e+00                  0.000000                NaN   \n",
       "6    c107  3.061412e+00                  0.000000                NaN   \n",
       "7    c108  5.935980e-01                  0.000000                NaN   \n",
       "8    c109 -1.282967e+01                  0.000000                NaN   \n",
       "9    c201  0.000000e+00                  0.000000                NaN   \n",
       "10   c202  1.311776e+01                 33.333333                NaN   \n",
       "11   c203  9.011129e+00                 33.333333                NaN   \n",
       "12   c204  8.373998e+00                  0.000000                NaN   \n",
       "13   c205 -1.865682e-14                  0.000000                NaN   \n",
       "14   c206  6.510086e-02                  0.000000                NaN   \n",
       "15   c207  3.960878e+00                  0.000000                NaN   \n",
       "16   c208  4.445235e+00                  0.000000                NaN   \n",
       "17   r101 -8.486986e-02                  5.000000                NaN   \n",
       "18   r102 -1.839284e+00                  0.000000                NaN   \n",
       "19   r103  6.211485e+00                 13.333333                NaN   \n",
       "20   r104  7.263667e+00                 -8.333333                NaN   \n",
       "21   r105 -3.912587e+00                 -6.250000                NaN   \n",
       "22   r106  1.366724e+00                  0.000000                NaN   \n",
       "23   r107 -8.112059e-01                  8.333333                NaN   \n",
       "24   r108  1.631560e+00                 -9.090909                NaN   \n",
       "25   r109 -5.250243e+00                 -7.142857                NaN   \n",
       "26   r110 -9.757638e+00                  0.000000                NaN   \n",
       "27   r111  3.236868e+00                  0.000000                NaN   \n",
       "28   r112  6.284165e+00                  9.090909                NaN   \n",
       "29   r201 -2.211567e+00                  0.000000                NaN   \n",
       "30   r202  1.000670e+01                -33.333333                NaN   \n",
       "31   r203  4.177353e+00                -33.333333                NaN   \n",
       "32   r204 -6.400786e+00                -40.000000                NaN   \n",
       "33   r205  4.663550e+00                -20.000000                NaN   \n",
       "34   r206 -5.273014e+00                 33.333333                NaN   \n",
       "35   r207  1.379677e+01                  0.000000                NaN   \n",
       "36   r208 -7.135138e+00                  0.000000                NaN   \n",
       "37   r209  1.944862e+01                -25.000000                NaN   \n",
       "38   r210  2.181312e+00                -33.333333                NaN   \n",
       "39   r211  9.554654e+00                  0.000000                NaN   \n",
       "40  rc101  4.884856e-01                  5.882353                NaN   \n",
       "41  rc102  1.578558e+00                  7.142857                NaN   \n",
       "42  rc103 -2.486168e-01                  0.000000                NaN   \n",
       "43  rc104  2.546031e+00                  0.000000                NaN   \n",
       "44  rc105 -4.926984e+00                 -5.555556                NaN   \n",
       "45  rc106  1.184886e+00                -13.333333                NaN   \n",
       "46  rc107 -7.500383e-01                 -7.142857                NaN   \n",
       "47  rc108  6.153316e+00                 -7.692308                NaN   \n",
       "48  rc201 -6.382928e-01                -28.571429                NaN   \n",
       "49  rc202  9.854202e+00                -28.571429                NaN   \n",
       "50  rc203  1.899224e+00                -20.000000                NaN   \n",
       "51  rc204 -1.096612e+01                  0.000000                NaN   \n",
       "52  rc205  1.946696e+01                -28.571429                NaN   \n",
       "53  rc206  1.227437e+01                -20.000000                NaN   \n",
       "54  rc207  3.134006e+00                  0.000000                NaN   \n",
       "55  rc208  3.881780e+00                  0.000000                NaN   \n",
       "\n",
       "    IMPROVEMENT_TIME  ELAPSED_TIME  \n",
       "0                NaN   2682.041703  \n",
       "1                NaN   3912.313832  \n",
       "2                NaN   3029.813101  \n",
       "3                NaN   3561.331050  \n",
       "4                NaN   3698.019394  \n",
       "5                NaN   7234.236452  \n",
       "6                NaN   3934.061120  \n",
       "7                NaN   4684.841889  \n",
       "8                NaN   4524.292785  \n",
       "9                NaN  12282.828957  \n",
       "10               NaN  18244.244134  \n",
       "11               NaN  13828.678458  \n",
       "12               NaN  22809.817212  \n",
       "13               NaN  20049.131004  \n",
       "14               NaN  35171.529645  \n",
       "15               NaN  26363.708084  \n",
       "16               NaN  25488.252283  \n",
       "17               NaN   1725.516549  \n",
       "18               NaN   4304.183493  \n",
       "19               NaN   6280.000949  \n",
       "20               NaN   4242.970517  \n",
       "21               NaN   3905.003072  \n",
       "22               NaN   4576.918012  \n",
       "23               NaN   5885.298392  \n",
       "24               NaN   4050.378915  \n",
       "25               NaN   5031.117465  \n",
       "26               NaN   4909.791743  \n",
       "27               NaN   3558.464535  \n",
       "28               NaN   4298.487072  \n",
       "29               NaN  16788.710863  \n",
       "30               NaN  17906.851680  \n",
       "31               NaN  27624.339362  \n",
       "32               NaN  45503.737118  \n",
       "33               NaN  19736.520992  \n",
       "34               NaN  24202.865842  \n",
       "35               NaN  37848.410648  \n",
       "36               NaN  55138.642832  \n",
       "37               NaN  18766.260567  \n",
       "38               NaN  25184.204968  \n",
       "39               NaN  27510.365003  \n",
       "40               NaN   3670.044255  \n",
       "41               NaN   3669.555642  \n",
       "42               NaN   5207.541129  \n",
       "43               NaN   1985.219523  \n",
       "44               NaN   3858.560939  \n",
       "45               NaN   2912.372909  \n",
       "46               NaN   4298.979644  \n",
       "47               NaN   3153.536864  \n",
       "48               NaN  13912.745421  \n",
       "49               NaN  15706.161605  \n",
       "50               NaN  15208.494834  \n",
       "51               NaN  22993.541300  \n",
       "52               NaN   8764.496520  \n",
       "53               NaN  12146.724527  \n",
       "54               NaN  16845.108879  \n",
       "55               NaN  34011.296664  "
      ]
     },
     "execution_count": 7,
     "metadata": {},
     "output_type": "execute_result"
    }
   ],
   "source": [
    "# CSVファイルを読み込む\n",
    "CSV_DIR_PATH = f'results/statistics/{num_cust}/{rate_name}/{group_name}'\n",
    "data_file_path =  os.path.join(\n",
    "        CSV_DIR_PATH, f'100cust_{group_name}_{rate_name}_result.csv'\n",
    "    )\n",
    "df = pd.read_csv(data_file_path)\n",
    "df"
   ]
  },
  {
   "cell_type": "code",
   "execution_count": 8,
   "metadata": {},
   "outputs": [],
   "source": [
    "# 各ケースのインスタンス数を読み込むクラス作成\n",
    "class Num_Instance():\n",
    "    def __init__(self, cust, group):\n",
    "        self.__cust = cust\n",
    "        self.__gourp = group\n",
    "        self.__numInstance = self.__caluculate_number()\n",
    "\n",
    "    def __caluculate_number(self):\n",
    "        DATA_DIR_PATH = f'data/cust_data/{self.__cust}/{self.__gourp}' # f'results/simulation/{num_cust}/'\n",
    "        count = 0\n",
    "        for file_name in os.listdir(DATA_DIR_PATH):\n",
    "            if file_name.endswith('.txt'):\n",
    "                count += 1\n",
    "        return  count \n",
    "    \n",
    "    def get_num(self):\n",
    "        return self.__numInstance\n",
    "\n",
    "\n",
    "num_c = Num_Instance('100cust', 'c').get_num()\n",
    "num_r = Num_Instance('100cust', 'r').get_num()\n",
    "num_rc = Num_Instance('100cust', 'rc').get_num()\n",
    "num_total = Num_Instance('100cust', 'total').get_num()"
   ]
  },
  {
   "cell_type": "code",
   "execution_count": 9,
   "metadata": {},
   "outputs": [
    {
     "name": "stdout",
     "output_type": "stream",
     "text": [
      "['c101', 'c102', 'c103', 'c104', 'c105', 'c106', 'c107', 'c108', 'c109', 'c201', 'c202', 'c203', 'c204', 'c205', 'c206', 'c207', 'c208', 'r101', 'r102', 'r103', 'r104', 'r105', 'r106', 'r107', 'r108', 'r109', 'r110', 'r111', 'r112', 'r201', 'r202', 'r203', 'r204', 'r205', 'r206', 'r207', 'r208', 'r209', 'r210', 'r211', 'rc101', 'rc102', 'rc103', 'rc104', 'rc105', 'rc106', 'rc107', 'rc108', 'rc201', 'rc202', 'rc203', 'rc204', 'rc205', 'rc206', 'rc207', 'rc208'] 56\n"
     ]
    }
   ],
   "source": [
    "# 特定の列を抜き出す\n",
    "x_values = df['case'].tolist()\n",
    "y1_values = df['TOTALCOST']\n",
    "y2_values = df['ELAPSED_TIME']\n",
    "print(x_values, len(x_values))\n"
   ]
  },
  {
   "cell_type": "code",
   "execution_count": 10,
   "metadata": {},
   "outputs": [
    {
     "data": {
      "image/png": "[encoded data removed]",
      "text/plain": [
       "<Figure size 640x480 with 1 Axes>"
      ]
     },
     "metadata": {},
     "output_type": "display_data"
    }
   ],
   "source": [
    "# グラフを描写する\n",
    "fig, ax1 = plt.subplots()\n",
    "\n",
    "color = 'tab:red'\n",
    "ax1.set_xlabel('case')\n",
    "ax1.set_ylabel('distance[%]', color=color)\n",
    "n = len(x_values)\n",
    "ind = 1    # カーソル位置のインデックス\n",
    "cur_v = ax1.axvline(x_values[ind], color='k', linestyle='--', linewidth=0.5)\n",
    "cur_h = ax1.axhline(y1_values[ind], color='k', linestyle='--', linewidth=0.5)\n",
    "ax1.plot(range(n), y1_values, \"o-\", picker=15, color=color, label=f'{rate_name}_{group_name}')\n",
    "plt.xticks(range(n), x_values)\n",
    "cur_point, = ax1.plot(x_values[ind], y1_values[ind], color='k', markersize=10, marker='o')\n",
    "ax1.set_title('index: {}, x = {}, y = {}'.format(\n",
    "                                ind, x_values[ind], round(y1_values[ind], 4)))\n",
    "ax1.tick_params(axis='y', labelcolor=color)\n",
    "plt.xticks(rotation=90)\n",
    "\n",
    "# ax2 = ax1.twinx()\n",
    "# color = 'tab:blue'\n",
    "# ax2.set_ylabel('elapsed_time[%]', color=color)\n",
    "# ax2.plot(x_values, y2_values, color=color, label=f'{rate_name}_{group_name}')\n",
    "# ax2.tick_params(axis='y', labelcolor=color)\n",
    "\n",
    "# 水平補助線を追加\n",
    "for i in np.arange(-10, 20, 5):\n",
    "    ax1.axhline(y=i, color='lightgray', linestyle='--', linewidth=1.5)\n",
    "    # ax2.axhline(y=20, color='gray', linestyle='-.', linewidth=1.5)\n",
    "\n",
    "\n",
    "\n",
    "# # x軸の特定の値で垂直線を追加\n",
    "# specific_x_value1 = c - 0.5  # 追加したい垂直線のx値\n",
    "# specific_x_value2 = c + r - 0.5\n",
    "# specific_x_value3 = c + r + rc - 0.5\n",
    "# vertical_lines = [specific_x_value1, specific_x_value2]\n",
    "# for line in vertical_lines:\n",
    "#     plt.axvline(x=line, color='b', linestyle='--', linewidth=1)\n",
    "\n",
    "# ケースごとに色分け\n",
    "if group_name == 'total':\n",
    "    min_values = [0, num_c - 0.5, num_c + num_r - 0.5]\n",
    "    max_values = [num_c - 0.5, num_c + num_r - 0.5, num_total]\n",
    "    for i in range(len(min_values)-1):\n",
    "        ax1.axvspan(min_values[i], max_values[i], color=f'C{i}', alpha=0.5)\n",
    "\n",
    "def on_key(event):\n",
    "    global ind\n",
    "    if event.key == 'right':\n",
    "        move = 1\n",
    "    elif event.key == 'left':\n",
    "        move = -1\n",
    "    else:\n",
    "        return\n",
    "\n",
    "    # インデックスの更新\n",
    "    ind += move\n",
    "    ind %= n  # グラフの端に行くと戻るようにする\n",
    "\n",
    "    # カーソルとタイトルの更新\n",
    "    cur_v.set_xdata(x_values[ind])\n",
    "    cur_h.set_ydata(y1_values[ind])\n",
    "    cur_point.set_data(x_values[ind], y1_values[ind])\n",
    "    ax.set_title('index: {}, x = {}, y = {}'.format(\n",
    "                                    ind, x_values[ind], round(y1_values[ind], 4)))\n",
    "    plt.draw()\n",
    "\n",
    "fig.canvas.mpl_connect('key_press_event', on_key)\n",
    "\n",
    "\n",
    "fig.tight_layout()\n",
    "fig.legend(loc=\"upper right\")\n",
    "plt.show()"
   ]
  },
  {
   "cell_type": "code",
   "execution_count": 20,
   "metadata": {},
   "outputs": [
    {
     "data": {
      "application/vnd.plotly.v1+json": {
       "config": {
        "plotlyServerURL": "https://plot.ly"
       },
       "data": [
        {
         "hoverlabel": {
          "bgcolor": "#0000ff",
          "bordercolor": "#4682b4",
          "font": {
           "color": "#FFFFFF"
          }
         },
         "line": {
          "color": "#87cefa"
         },
         "mode": "markers+lines",
         "name": "distance",
         "opacity": 0.5,
         "showlegend": false,
         "textfont": {
          "size": 15
         },
         "type": "scatter",
         "visible": true,
         "x": [
          "c101",
          "c102",
          "c103",
          "c104",
          "c105",
          "c106",
          "c107",
          "c108",
          "c109",
          "c201",
          "c202",
          "c203",
          "c204",
          "c205",
          "c206",
          "c207",
          "c208",
          "r101",
          "r102",
          "r103",
          "r104",
          "r105",
          "r106",
          "r107",
          "r108",
          "r109",
          "r110",
          "r111",
          "r112",
          "r201",
          "r202",
          "r203",
          "r204",
          "r205",
          "r206",
          "r207",
          "r208",
          "r209",
          "r210",
          "r211",
          "rc101",
          "rc102",
          "rc103",
          "rc104",
          "rc105",
          "rc106",
          "rc107",
          "rc108",
          "rc201",
          "rc202",
          "rc203",
          "rc204",
          "rc205",
          "rc206",
          "rc207",
          "rc208"
         ],
         "y": [
          3.061411502064251,
          7.417520161541219,
          12.042984023333249,
          2.623815152889157,
          1.3714776390740048e-14,
          0,
          3.061411502064237,
          0.5935979512327131,
          -12.829666930986686,
          0,
          13.117758333979417,
          9.011129270262034,
          8.373997882792203,
          -1.865681999149679e-14,
          0.0651008574999063,
          3.96087828542472,
          4.445235329732934,
          -0.084869859511709,
          -1.839283809225712,
          6.211485315301962,
          7.263666940114488,
          -3.912586882019465,
          1.3667240541012258,
          -0.8112058843190533,
          1.6315600475250338,
          -5.250242674059346,
          -9.757637725326475,
          3.236867532208646,
          6.284164694053228,
          -2.2115666703833554,
          10.00670254038383,
          4.177353410574482,
          -6.400786414756696,
          4.663549728607499,
          -5.273013990805379,
          13.796766361916834,
          -7.135137690039113,
          19.44862040663452,
          2.181311543760881,
          9.554654138605384,
          0.4884855816542361,
          1.5785583584071596,
          -0.2486168475756414,
          2.546031117223093,
          -4.926983504879502,
          1.184885900751639,
          -0.7500383098416641,
          6.153315698634022,
          -0.6382927676946804,
          9.854202143112904,
          1.89922397268868,
          -10.96611844670026,
          19.466963987154426,
          12.274365821469525,
          3.134006035772816,
          3.881779889811916
         ]
        }
       ],
       "layout": {
        "template": {
         "data": {
          "bar": [
           {
            "error_x": {
             "color": "#2a3f5f"
            },
            "error_y": {
             "color": "#2a3f5f"
            },
            "marker": {
             "line": {
              "color": "#E5ECF6",
              "width": 0.5
             },
             "pattern": {
              "fillmode": "overlay",
              "size": 10,
              "solidity": 0.2
             }
            },
            "type": "bar"
           }
          ],
          "barpolar": [
           {
            "marker": {
             "line": {
              "color": "#E5ECF6",
              "width": 0.5
             },
             "pattern": {
              "fillmode": "overlay",
              "size": 10,
              "solidity": 0.2
             }
            },
            "type": "barpolar"
           }
          ],
          "carpet": [
           {
            "aaxis": {
             "endlinecolor": "#2a3f5f",
             "gridcolor": "white",
             "linecolor": "white",
             "minorgridcolor": "white",
             "startlinecolor": "#2a3f5f"
            },
            "baxis": {
             "endlinecolor": "#2a3f5f",
             "gridcolor": "white",
             "linecolor": "white",
             "minorgridcolor": "white",
             "startlinecolor": "#2a3f5f"
            },
            "type": "carpet"
           }
          ],
          "choropleth": [
           {
            "colorbar": {
             "outlinewidth": 0,
             "ticks": ""
            },
            "type": "choropleth"
           }
          ],
          "contour": [
           {
            "colorbar": {
             "outlinewidth": 0,
             "ticks": ""
            },
            "colorscale": [
             [
              0,
              "#0d0887"
             ],
             [
              0.1111111111111111,
              "#46039f"
             ],
             [
              0.2222222222222222,
              "#7201a8"
             ],
             [
              0.3333333333333333,
              "#9c179e"
             ],
             [
              0.4444444444444444,
              "#bd3786"
             ],
             [
              0.5555555555555556,
              "#d8576b"
             ],
             [
              0.6666666666666666,
              "#ed7953"
             ],
             [
              0.7777777777777778,
              "#fb9f3a"
             ],
             [
              0.8888888888888888,
              "#fdca26"
             ],
             [
              1,
              "#f0f921"
             ]
            ],
            "type": "contour"
           }
          ],
          "contourcarpet": [
           {
            "colorbar": {
             "outlinewidth": 0,
             "ticks": ""
            },
            "type": "contourcarpet"
           }
          ],
          "heatmap": [
           {
            "colorbar": {
             "outlinewidth": 0,
             "ticks": ""
            },
            "colorscale": [
             [
              0,
              "#0d0887"
             ],
             [
              0.1111111111111111,
              "#46039f"
             ],
             [
              0.2222222222222222,
              "#7201a8"
             ],
             [
              0.3333333333333333,
              "#9c179e"
             ],
             [
              0.4444444444444444,
              "#bd3786"
             ],
             [
              0.5555555555555556,
              "#d8576b"
             ],
             [
              0.6666666666666666,
              "#ed7953"
             ],
             [
              0.7777777777777778,
              "#fb9f3a"
             ],
             [
              0.8888888888888888,
              "#fdca26"
             ],
             [
              1,
              "#f0f921"
             ]
            ],
            "type": "heatmap"
           }
          ],
          "heatmapgl": [
           {
            "colorbar": {
             "outlinewidth": 0,
             "ticks": ""
            },
            "colorscale": [
             [
              0,
              "#0d0887"
             ],
             [
              0.1111111111111111,
              "#46039f"
             ],
             [
              0.2222222222222222,
              "#7201a8"
             ],
             [
              0.3333333333333333,
              "#9c179e"
             ],
             [
              0.4444444444444444,
              "#bd3786"
             ],
             [
              0.5555555555555556,
              "#d8576b"
             ],
             [
              0.6666666666666666,
              "#ed7953"
             ],
             [
              0.7777777777777778,
              "#fb9f3a"
             ],
             [
              0.8888888888888888,
              "#fdca26"
             ],
             [
              1,
              "#f0f921"
             ]
            ],
            "type": "heatmapgl"
           }
          ],
          "histogram": [
           {
            "marker": {
             "pattern": {
              "fillmode": "overlay",
              "size": 10,
              "solidity": 0.2
             }
            },
            "type": "histogram"
           }
          ],
          "histogram2d": [
           {
            "colorbar": {
             "outlinewidth": 0,
             "ticks": ""
            },
            "colorscale": [
             [
              0,
              "#0d0887"
             ],
             [
              0.1111111111111111,
              "#46039f"
             ],
             [
              0.2222222222222222,
              "#7201a8"
             ],
             [
              0.3333333333333333,
              "#9c179e"
             ],
             [
              0.4444444444444444,
              "#bd3786"
             ],
             [
              0.5555555555555556,
              "#d8576b"
             ],
             [
              0.6666666666666666,
              "#ed7953"
             ],
             [
              0.7777777777777778,
              "#fb9f3a"
             ],
             [
              0.8888888888888888,
              "#fdca26"
             ],
             [
              1,
              "#f0f921"
             ]
            ],
            "type": "histogram2d"
           }
          ],
          "histogram2dcontour": [
           {
            "colorbar": {
             "outlinewidth": 0,
             "ticks": ""
            },
            "colorscale": [
             [
              0,
              "#0d0887"
             ],
             [
              0.1111111111111111,
              "#46039f"
             ],
             [
              0.2222222222222222,
              "#7201a8"
             ],
             [
              0.3333333333333333,
              "#9c179e"
             ],
             [
              0.4444444444444444,
              "#bd3786"
             ],
             [
              0.5555555555555556,
              "#d8576b"
             ],
             [
              0.6666666666666666,
              "#ed7953"
             ],
             [
              0.7777777777777778,
              "#fb9f3a"
             ],
             [
              0.8888888888888888,
              "#fdca26"
             ],
             [
              1,
              "#f0f921"
             ]
            ],
            "type": "histogram2dcontour"
           }
          ],
          "mesh3d": [
           {
            "colorbar": {
             "outlinewidth": 0,
             "ticks": ""
            },
            "type": "mesh3d"
           }
          ],
          "parcoords": [
           {
            "line": {
             "colorbar": {
              "outlinewidth": 0,
              "ticks": ""
             }
            },
            "type": "parcoords"
           }
          ],
          "pie": [
           {
            "automargin": true,
            "type": "pie"
           }
          ],
          "scatter": [
           {
            "fillpattern": {
             "fillmode": "overlay",
             "size": 10,
             "solidity": 0.2
            },
            "type": "scatter"
           }
          ],
          "scatter3d": [
           {
            "line": {
             "colorbar": {
              "outlinewidth": 0,
              "ticks": ""
             }
            },
            "marker": {
             "colorbar": {
              "outlinewidth": 0,
              "ticks": ""
             }
            },
            "type": "scatter3d"
           }
          ],
          "scattercarpet": [
           {
            "marker": {
             "colorbar": {
              "outlinewidth": 0,
              "ticks": ""
             }
            },
            "type": "scattercarpet"
           }
          ],
          "scattergeo": [
           {
            "marker": {
             "colorbar": {
              "outlinewidth": 0,
              "ticks": ""
             }
            },
            "type": "scattergeo"
           }
          ],
          "scattergl": [
           {
            "marker": {
             "colorbar": {
              "outlinewidth": 0,
              "ticks": ""
             }
            },
            "type": "scattergl"
           }
          ],
          "scattermapbox": [
           {
            "marker": {
             "colorbar": {
              "outlinewidth": 0,
              "ticks": ""
             }
            },
            "type": "scattermapbox"
           }
          ],
          "scatterpolar": [
           {
            "marker": {
             "colorbar": {
              "outlinewidth": 0,
              "ticks": ""
             }
            },
            "type": "scatterpolar"
           }
          ],
          "scatterpolargl": [
           {
            "marker": {
             "colorbar": {
              "outlinewidth": 0,
              "ticks": ""
             }
            },
            "type": "scatterpolargl"
           }
          ],
          "scatterternary": [
           {
            "marker": {
             "colorbar": {
              "outlinewidth": 0,
              "ticks": ""
             }
            },
            "type": "scatterternary"
           }
          ],
          "surface": [
           {
            "colorbar": {
             "outlinewidth": 0,
             "ticks": ""
            },
            "colorscale": [
             [
              0,
              "#0d0887"
             ],
             [
              0.1111111111111111,
              "#46039f"
             ],
             [
              0.2222222222222222,
              "#7201a8"
             ],
             [
              0.3333333333333333,
              "#9c179e"
             ],
             [
              0.4444444444444444,
              "#bd3786"
             ],
             [
              0.5555555555555556,
              "#d8576b"
             ],
             [
              0.6666666666666666,
              "#ed7953"
             ],
             [
              0.7777777777777778,
              "#fb9f3a"
             ],
             [
              0.8888888888888888,
              "#fdca26"
             ],
             [
              1,
              "#f0f921"
             ]
            ],
            "type": "surface"
           }
          ],
          "table": [
           {
            "cells": {
             "fill": {
              "color": "#EBF0F8"
             },
             "line": {
              "color": "white"
             }
            },
            "header": {
             "fill": {
              "color": "#C8D4E3"
             },
             "line": {
              "color": "white"
             }
            },
            "type": "table"
           }
          ]
         },
         "layout": {
          "annotationdefaults": {
           "arrowcolor": "#2a3f5f",
           "arrowhead": 0,
           "arrowwidth": 1
          },
          "autotypenumbers": "strict",
          "coloraxis": {
           "colorbar": {
            "outlinewidth": 0,
            "ticks": ""
           }
          },
          "colorscale": {
           "diverging": [
            [
             0,
             "#8e0152"
            ],
            [
             0.1,
             "#c51b7d"
            ],
            [
             0.2,
             "#de77ae"
            ],
            [
             0.3,
             "#f1b6da"
            ],
            [
             0.4,
             "#fde0ef"
            ],
            [
             0.5,
             "#f7f7f7"
            ],
            [
             0.6,
             "#e6f5d0"
            ],
            [
             0.7,
             "#b8e186"
            ],
            [
             0.8,
             "#7fbc41"
            ],
            [
             0.9,
             "#4d9221"
            ],
            [
             1,
             "#276419"
            ]
           ],
           "sequential": [
            [
             0,
             "#0d0887"
            ],
            [
             0.1111111111111111,
             "#46039f"
            ],
            [
             0.2222222222222222,
             "#7201a8"
            ],
            [
             0.3333333333333333,
             "#9c179e"
            ],
            [
             0.4444444444444444,
             "#bd3786"
            ],
            [
             0.5555555555555556,
             "#d8576b"
            ],
            [
             0.6666666666666666,
             "#ed7953"
            ],
            [
             0.7777777777777778,
             "#fb9f3a"
            ],
            [
             0.8888888888888888,
             "#fdca26"
            ],
            [
             1,
             "#f0f921"
            ]
           ],
           "sequentialminus": [
            [
             0,
             "#0d0887"
            ],
            [
             0.1111111111111111,
             "#46039f"
            ],
            [
             0.2222222222222222,
             "#7201a8"
            ],
            [
             0.3333333333333333,
             "#9c179e"
            ],
            [
             0.4444444444444444,
             "#bd3786"
            ],
            [
             0.5555555555555556,
             "#d8576b"
            ],
            [
             0.6666666666666666,
             "#ed7953"
            ],
            [
             0.7777777777777778,
             "#fb9f3a"
            ],
            [
             0.8888888888888888,
             "#fdca26"
            ],
            [
             1,
             "#f0f921"
            ]
           ]
          },
          "colorway": [
           "#636efa",
           "#EF553B",
           "#00cc96",
           "#ab63fa",
           "#FFA15A",
           "#19d3f3",
           "#FF6692",
           "#B6E880",
           "#FF97FF",
           "#FECB52"
          ],
          "font": {
           "color": "#2a3f5f"
          },
          "geo": {
           "bgcolor": "white",
           "lakecolor": "white",
           "landcolor": "#E5ECF6",
           "showlakes": true,
           "showland": true,
           "subunitcolor": "white"
          },
          "hoverlabel": {
           "align": "left"
          },
          "hovermode": "closest",
          "mapbox": {
           "style": "light"
          },
          "paper_bgcolor": "white",
          "plot_bgcolor": "#E5ECF6",
          "polar": {
           "angularaxis": {
            "gridcolor": "white",
            "linecolor": "white",
            "ticks": ""
           },
           "bgcolor": "#E5ECF6",
           "radialaxis": {
            "gridcolor": "white",
            "linecolor": "white",
            "ticks": ""
           }
          },
          "scene": {
           "xaxis": {
            "backgroundcolor": "#E5ECF6",
            "gridcolor": "white",
            "gridwidth": 2,
            "linecolor": "white",
            "showbackground": true,
            "ticks": "",
            "zerolinecolor": "white"
           },
           "yaxis": {
            "backgroundcolor": "#E5ECF6",
            "gridcolor": "white",
            "gridwidth": 2,
            "linecolor": "white",
            "showbackground": true,
            "ticks": "",
            "zerolinecolor": "white"
           },
           "zaxis": {
            "backgroundcolor": "#E5ECF6",
            "gridcolor": "white",
            "gridwidth": 2,
            "linecolor": "white",
            "showbackground": true,
            "ticks": "",
            "zerolinecolor": "white"
           }
          },
          "shapedefaults": {
           "line": {
            "color": "#2a3f5f"
           }
          },
          "ternary": {
           "aaxis": {
            "gridcolor": "white",
            "linecolor": "white",
            "ticks": ""
           },
           "baxis": {
            "gridcolor": "white",
            "linecolor": "white",
            "ticks": ""
           },
           "bgcolor": "#E5ECF6",
           "caxis": {
            "gridcolor": "white",
            "linecolor": "white",
            "ticks": ""
           }
          },
          "title": {
           "x": 0.05
          },
          "xaxis": {
           "automargin": true,
           "gridcolor": "white",
           "linecolor": "white",
           "ticks": "",
           "title": {
            "standoff": 15
           },
           "zerolinecolor": "white",
           "zerolinewidth": 2
          },
          "yaxis": {
           "automargin": true,
           "gridcolor": "white",
           "linecolor": "white",
           "ticks": "",
           "title": {
            "standoff": 15
           },
           "zerolinecolor": "white",
           "zerolinewidth": 2
          }
         }
        }
       }
      },
      "text/html": [
       "<div>                            <div id=\"0d305602-fd61-4c6a-a9cf-a6600d5663c5\" class=\"plotly-graph-div\" style=\"height:525px; width:100%;\"></div>            <script type=\"text/javascript\">                require([\"plotly\"], function(Plotly) {                    window.PLOTLYENV=window.PLOTLYENV || {};                                    if (document.getElementById(\"0d305602-fd61-4c6a-a9cf-a6600d5663c5\")) {                    Plotly.newPlot(                        \"0d305602-fd61-4c6a-a9cf-a6600d5663c5\",                        [{\"hoverlabel\":{\"bgcolor\":\"#0000ff\",\"bordercolor\":\"#4682b4\",\"font\":{\"color\":\"#FFFFFF\"}},\"line\":{\"color\":\"#87cefa\"},\"mode\":\"markers+lines\",\"name\":\"distance\",\"opacity\":0.5,\"showlegend\":false,\"textfont\":{\"size\":15},\"visible\":true,\"x\":[\"c101\",\"c102\",\"c103\",\"c104\",\"c105\",\"c106\",\"c107\",\"c108\",\"c109\",\"c201\",\"c202\",\"c203\",\"c204\",\"c205\",\"c206\",\"c207\",\"c208\",\"r101\",\"r102\",\"r103\",\"r104\",\"r105\",\"r106\",\"r107\",\"r108\",\"r109\",\"r110\",\"r111\",\"r112\",\"r201\",\"r202\",\"r203\",\"r204\",\"r205\",\"r206\",\"r207\",\"r208\",\"r209\",\"r210\",\"r211\",\"rc101\",\"rc102\",\"rc103\",\"rc104\",\"rc105\",\"rc106\",\"rc107\",\"rc108\",\"rc201\",\"rc202\",\"rc203\",\"rc204\",\"rc205\",\"rc206\",\"rc207\",\"rc208\"],\"y\":[3.061411502064251,7.417520161541219,12.042984023333249,2.623815152889157,1.3714776390740048e-14,0.0,3.061411502064237,0.5935979512327131,-12.829666930986686,0.0,13.117758333979417,9.011129270262034,8.373997882792203,-1.865681999149679e-14,0.0651008574999063,3.96087828542472,4.445235329732934,-0.084869859511709,-1.839283809225712,6.211485315301962,7.263666940114488,-3.912586882019465,1.3667240541012258,-0.8112058843190533,1.6315600475250338,-5.250242674059346,-9.757637725326475,3.236867532208646,6.284164694053228,-2.2115666703833554,10.00670254038383,4.177353410574482,-6.400786414756696,4.663549728607499,-5.273013990805379,13.796766361916834,-7.135137690039113,19.44862040663452,2.181311543760881,9.554654138605384,0.4884855816542361,1.5785583584071596,-0.2486168475756414,2.546031117223093,-4.926983504879502,1.184885900751639,-0.7500383098416641,6.153315698634022,-0.6382927676946804,9.854202143112904,1.89922397268868,-10.96611844670026,19.466963987154426,12.274365821469525,3.134006035772816,3.881779889811916],\"type\":\"scatter\"}],                        {\"template\":{\"data\":{\"histogram2dcontour\":[{\"type\":\"histogram2dcontour\",\"colorbar\":{\"outlinewidth\":0,\"ticks\":\"\"},\"colorscale\":[[0.0,\"#0d0887\"],[0.1111111111111111,\"#46039f\"],[0.2222222222222222,\"#7201a8\"],[0.3333333333333333,\"#9c179e\"],[0.4444444444444444,\"#bd3786\"],[0.5555555555555556,\"#d8576b\"],[0.6666666666666666,\"#ed7953\"],[0.7777777777777778,\"#fb9f3a\"],[0.8888888888888888,\"#fdca26\"],[1.0,\"#f0f921\"]]}],\"choropleth\":[{\"type\":\"choropleth\",\"colorbar\":{\"outlinewidth\":0,\"ticks\":\"\"}}],\"histogram2d\":[{\"type\":\"histogram2d\",\"colorbar\":{\"outlinewidth\":0,\"ticks\":\"\"},\"colorscale\":[[0.0,\"#0d0887\"],[0.1111111111111111,\"#46039f\"],[0.2222222222222222,\"#7201a8\"],[0.3333333333333333,\"#9c179e\"],[0.4444444444444444,\"#bd3786\"],[0.5555555555555556,\"#d8576b\"],[0.6666666666666666,\"#ed7953\"],[0.7777777777777778,\"#fb9f3a\"],[0.8888888888888888,\"#fdca26\"],[1.0,\"#f0f921\"]]}],\"heatmap\":[{\"type\":\"heatmap\",\"colorbar\":{\"outlinewidth\":0,\"ticks\":\"\"},\"colorscale\":[[0.0,\"#0d0887\"],[0.1111111111111111,\"#46039f\"],[0.2222222222222222,\"#7201a8\"],[0.3333333333333333,\"#9c179e\"],[0.4444444444444444,\"#bd3786\"],[0.5555555555555556,\"#d8576b\"],[0.6666666666666666,\"#ed7953\"],[0.7777777777777778,\"#fb9f3a\"],[0.8888888888888888,\"#fdca26\"],[1.0,\"#f0f921\"]]}],\"heatmapgl\":[{\"type\":\"heatmapgl\",\"colorbar\":{\"outlinewidth\":0,\"ticks\":\"\"},\"colorscale\":[[0.0,\"#0d0887\"],[0.1111111111111111,\"#46039f\"],[0.2222222222222222,\"#7201a8\"],[0.3333333333333333,\"#9c179e\"],[0.4444444444444444,\"#bd3786\"],[0.5555555555555556,\"#d8576b\"],[0.6666666666666666,\"#ed7953\"],[0.7777777777777778,\"#fb9f3a\"],[0.8888888888888888,\"#fdca26\"],[1.0,\"#f0f921\"]]}],\"contourcarpet\":[{\"type\":\"contourcarpet\",\"colorbar\":{\"outlinewidth\":0,\"ticks\":\"\"}}],\"contour\":[{\"type\":\"contour\",\"colorbar\":{\"outlinewidth\":0,\"ticks\":\"\"},\"colorscale\":[[0.0,\"#0d0887\"],[0.1111111111111111,\"#46039f\"],[0.2222222222222222,\"#7201a8\"],[0.3333333333333333,\"#9c179e\"],[0.4444444444444444,\"#bd3786\"],[0.5555555555555556,\"#d8576b\"],[0.6666666666666666,\"#ed7953\"],[0.7777777777777778,\"#fb9f3a\"],[0.8888888888888888,\"#fdca26\"],[1.0,\"#f0f921\"]]}],\"surface\":[{\"type\":\"surface\",\"colorbar\":{\"outlinewidth\":0,\"ticks\":\"\"},\"colorscale\":[[0.0,\"#0d0887\"],[0.1111111111111111,\"#46039f\"],[0.2222222222222222,\"#7201a8\"],[0.3333333333333333,\"#9c179e\"],[0.4444444444444444,\"#bd3786\"],[0.5555555555555556,\"#d8576b\"],[0.6666666666666666,\"#ed7953\"],[0.7777777777777778,\"#fb9f3a\"],[0.8888888888888888,\"#fdca26\"],[1.0,\"#f0f921\"]]}],\"mesh3d\":[{\"type\":\"mesh3d\",\"colorbar\":{\"outlinewidth\":0,\"ticks\":\"\"}}],\"scatter\":[{\"fillpattern\":{\"fillmode\":\"overlay\",\"size\":10,\"solidity\":0.2},\"type\":\"scatter\"}],\"parcoords\":[{\"type\":\"parcoords\",\"line\":{\"colorbar\":{\"outlinewidth\":0,\"ticks\":\"\"}}}],\"scatterpolargl\":[{\"type\":\"scatterpolargl\",\"marker\":{\"colorbar\":{\"outlinewidth\":0,\"ticks\":\"\"}}}],\"bar\":[{\"error_x\":{\"color\":\"#2a3f5f\"},\"error_y\":{\"color\":\"#2a3f5f\"},\"marker\":{\"line\":{\"color\":\"#E5ECF6\",\"width\":0.5},\"pattern\":{\"fillmode\":\"overlay\",\"size\":10,\"solidity\":0.2}},\"type\":\"bar\"}],\"scattergeo\":[{\"type\":\"scattergeo\",\"marker\":{\"colorbar\":{\"outlinewidth\":0,\"ticks\":\"\"}}}],\"scatterpolar\":[{\"type\":\"scatterpolar\",\"marker\":{\"colorbar\":{\"outlinewidth\":0,\"ticks\":\"\"}}}],\"histogram\":[{\"marker\":{\"pattern\":{\"fillmode\":\"overlay\",\"size\":10,\"solidity\":0.2}},\"type\":\"histogram\"}],\"scattergl\":[{\"type\":\"scattergl\",\"marker\":{\"colorbar\":{\"outlinewidth\":0,\"ticks\":\"\"}}}],\"scatter3d\":[{\"type\":\"scatter3d\",\"line\":{\"colorbar\":{\"outlinewidth\":0,\"ticks\":\"\"}},\"marker\":{\"colorbar\":{\"outlinewidth\":0,\"ticks\":\"\"}}}],\"scattermapbox\":[{\"type\":\"scattermapbox\",\"marker\":{\"colorbar\":{\"outlinewidth\":0,\"ticks\":\"\"}}}],\"scatterternary\":[{\"type\":\"scatterternary\",\"marker\":{\"colorbar\":{\"outlinewidth\":0,\"ticks\":\"\"}}}],\"scattercarpet\":[{\"type\":\"scattercarpet\",\"marker\":{\"colorbar\":{\"outlinewidth\":0,\"ticks\":\"\"}}}],\"carpet\":[{\"aaxis\":{\"endlinecolor\":\"#2a3f5f\",\"gridcolor\":\"white\",\"linecolor\":\"white\",\"minorgridcolor\":\"white\",\"startlinecolor\":\"#2a3f5f\"},\"baxis\":{\"endlinecolor\":\"#2a3f5f\",\"gridcolor\":\"white\",\"linecolor\":\"white\",\"minorgridcolor\":\"white\",\"startlinecolor\":\"#2a3f5f\"},\"type\":\"carpet\"}],\"table\":[{\"cells\":{\"fill\":{\"color\":\"#EBF0F8\"},\"line\":{\"color\":\"white\"}},\"header\":{\"fill\":{\"color\":\"#C8D4E3\"},\"line\":{\"color\":\"white\"}},\"type\":\"table\"}],\"barpolar\":[{\"marker\":{\"line\":{\"color\":\"#E5ECF6\",\"width\":0.5},\"pattern\":{\"fillmode\":\"overlay\",\"size\":10,\"solidity\":0.2}},\"type\":\"barpolar\"}],\"pie\":[{\"automargin\":true,\"type\":\"pie\"}]},\"layout\":{\"autotypenumbers\":\"strict\",\"colorway\":[\"#636efa\",\"#EF553B\",\"#00cc96\",\"#ab63fa\",\"#FFA15A\",\"#19d3f3\",\"#FF6692\",\"#B6E880\",\"#FF97FF\",\"#FECB52\"],\"font\":{\"color\":\"#2a3f5f\"},\"hovermode\":\"closest\",\"hoverlabel\":{\"align\":\"left\"},\"paper_bgcolor\":\"white\",\"plot_bgcolor\":\"#E5ECF6\",\"polar\":{\"bgcolor\":\"#E5ECF6\",\"angularaxis\":{\"gridcolor\":\"white\",\"linecolor\":\"white\",\"ticks\":\"\"},\"radialaxis\":{\"gridcolor\":\"white\",\"linecolor\":\"white\",\"ticks\":\"\"}},\"ternary\":{\"bgcolor\":\"#E5ECF6\",\"aaxis\":{\"gridcolor\":\"white\",\"linecolor\":\"white\",\"ticks\":\"\"},\"baxis\":{\"gridcolor\":\"white\",\"linecolor\":\"white\",\"ticks\":\"\"},\"caxis\":{\"gridcolor\":\"white\",\"linecolor\":\"white\",\"ticks\":\"\"}},\"coloraxis\":{\"colorbar\":{\"outlinewidth\":0,\"ticks\":\"\"}},\"colorscale\":{\"sequential\":[[0.0,\"#0d0887\"],[0.1111111111111111,\"#46039f\"],[0.2222222222222222,\"#7201a8\"],[0.3333333333333333,\"#9c179e\"],[0.4444444444444444,\"#bd3786\"],[0.5555555555555556,\"#d8576b\"],[0.6666666666666666,\"#ed7953\"],[0.7777777777777778,\"#fb9f3a\"],[0.8888888888888888,\"#fdca26\"],[1.0,\"#f0f921\"]],\"sequentialminus\":[[0.0,\"#0d0887\"],[0.1111111111111111,\"#46039f\"],[0.2222222222222222,\"#7201a8\"],[0.3333333333333333,\"#9c179e\"],[0.4444444444444444,\"#bd3786\"],[0.5555555555555556,\"#d8576b\"],[0.6666666666666666,\"#ed7953\"],[0.7777777777777778,\"#fb9f3a\"],[0.8888888888888888,\"#fdca26\"],[1.0,\"#f0f921\"]],\"diverging\":[[0,\"#8e0152\"],[0.1,\"#c51b7d\"],[0.2,\"#de77ae\"],[0.3,\"#f1b6da\"],[0.4,\"#fde0ef\"],[0.5,\"#f7f7f7\"],[0.6,\"#e6f5d0\"],[0.7,\"#b8e186\"],[0.8,\"#7fbc41\"],[0.9,\"#4d9221\"],[1,\"#276419\"]]},\"xaxis\":{\"gridcolor\":\"white\",\"linecolor\":\"white\",\"ticks\":\"\",\"title\":{\"standoff\":15},\"zerolinecolor\":\"white\",\"automargin\":true,\"zerolinewidth\":2},\"yaxis\":{\"gridcolor\":\"white\",\"linecolor\":\"white\",\"ticks\":\"\",\"title\":{\"standoff\":15},\"zerolinecolor\":\"white\",\"automargin\":true,\"zerolinewidth\":2},\"scene\":{\"xaxis\":{\"backgroundcolor\":\"#E5ECF6\",\"gridcolor\":\"white\",\"linecolor\":\"white\",\"showbackground\":true,\"ticks\":\"\",\"zerolinecolor\":\"white\",\"gridwidth\":2},\"yaxis\":{\"backgroundcolor\":\"#E5ECF6\",\"gridcolor\":\"white\",\"linecolor\":\"white\",\"showbackground\":true,\"ticks\":\"\",\"zerolinecolor\":\"white\",\"gridwidth\":2},\"zaxis\":{\"backgroundcolor\":\"#E5ECF6\",\"gridcolor\":\"white\",\"linecolor\":\"white\",\"showbackground\":true,\"ticks\":\"\",\"zerolinecolor\":\"white\",\"gridwidth\":2}},\"shapedefaults\":{\"line\":{\"color\":\"#2a3f5f\"}},\"annotationdefaults\":{\"arrowcolor\":\"#2a3f5f\",\"arrowhead\":0,\"arrowwidth\":1},\"geo\":{\"bgcolor\":\"white\",\"landcolor\":\"#E5ECF6\",\"subunitcolor\":\"white\",\"showland\":true,\"showlakes\":true,\"lakecolor\":\"white\"},\"title\":{\"x\":0.05},\"mapbox\":{\"style\":\"light\"}}}},                        {\"responsive\": true}                    ).then(function(){\n",
       "                            \n",
       "var gd = document.getElementById('0d305602-fd61-4c6a-a9cf-a6600d5663c5');\n",
       "var x = new MutationObserver(function (mutations, observer) {{\n",
       "        var display = window.getComputedStyle(gd).display;\n",
       "        if (!display || display === 'none') {{\n",
       "            console.log([gd, 'removed!']);\n",
       "            Plotly.purge(gd);\n",
       "            observer.disconnect();\n",
       "        }}\n",
       "}});\n",
       "\n",
       "// Listen for the removal of the full notebook cells\n",
       "var notebookContainer = gd.closest('#notebook-container');\n",
       "if (notebookContainer) {{\n",
       "    x.observe(notebookContainer, {childList: true});\n",
       "}}\n",
       "\n",
       "// Listen for the clearing of the current output cell\n",
       "var outputEl = gd.closest('.output');\n",
       "if (outputEl) {{\n",
       "    x.observe(outputEl, {childList: true});\n",
       "}}\n",
       "\n",
       "                        })                };                });            </script>        </div>"
      ]
     },
     "metadata": {},
     "output_type": "display_data"
    }
   ],
   "source": [
    "fig = go.Figure()\n",
    "fig.add_trace(go.Scatter(x=df['case'],\n",
    "            y=df['TOTALCOST'],\n",
    "            mode='markers+lines',\n",
    "            opacity=0.5,\n",
    "            showlegend=False,              \n",
    "            visible=True,\n",
    "            # textposition='top center',\n",
    "            # texttemplate='%{y:.2f}',\n",
    "            textfont=dict(size=15),\n",
    "            hoverlabel=dict(bgcolor='#0000ff',\n",
    "                            bordercolor='#4682b4',\n",
    "                            font=dict(color='#FFFFFF'),\n",
    "                            ),\n",
    "            line=dict(color='#87cefa'),\n",
    "            name='distance'))"
   ]
  },
  {
   "cell_type": "code",
   "execution_count": null,
   "metadata": {},
   "outputs": [],
   "source": [
    "    fig = px.scatter(\n",
    "    data_frame=df,\n",
    "    x='case',\n",
    "    y='TOTALCOST',\n",
    "    # color='カテゴリ',\n",
    "    # animation_frame='オーダー日（年）',\n",
    "    title='ROC of Total Cost[%]'\n",
    "    )\n",
    "    # # axvspanに相当する箇所を追加\n",
    "    # fig.add_vrect(\n",
    "    #     x0=\"c101\", x1=\"c108\",\n",
    "    #     fillcolor=\"LightSalmon\", opacity=0.5,\n",
    "    #     layer=\"below\", line_width=0,\n",
    "    # )"
   ]
  },
  {
   "cell_type": "code",
   "execution_count": null,
   "metadata": {},
   "outputs": [
    {
     "name": "stdout",
     "output_type": "stream",
     "text": [
      "<enumerate object at 0x7f9e4247a380>\n"
     ]
    },
    {
     "data": {
      "image/png": "[encoded data removed]",
      "text/plain": [
       "<Figure size 640x480 with 1 Axes>"
      ]
     },
     "metadata": {},
     "output_type": "display_data"
    },
    {
     "ename": "",
     "evalue": "",
     "output_type": "error",
     "traceback": [
      "\u001b[1;31mnotebook controller is DISPOSED. \n",
      "\u001b[1;31m詳細については、Jupyter [ログ] (command:jupyter.viewOutput) を参照してください。"
     ]
    }
   ],
   "source": [
    "import matplotlib.pyplot as plt\n",
    "\n",
    "x = [1, 2, 3, 4, 5]\n",
    "y = [2, 3, 5, 7, 11]\n",
    "\n",
    "print(enumerate(y))\n",
    "\n",
    "fig, ax = plt.subplots()\n",
    "ax.plot(x, y)\n",
    "\n",
    "for i, txt in enumerate(y):\n",
    "    ax.annotate(f'{x[i]},{y[i]}', (x[i], y[i]), textcoords=\"offset points\", xytext=(0,10), ha='center')\n",
    "\n",
    "plt.show()"
   ]
  }
 ],
 "metadata": {
  "kernelspec": {
   "display_name": ".venv",
   "language": "python",
   "name": "python3"
  },
  "language_info": {
   "codemirror_mode": {
    "name": "ipython",
    "version": 3
   },
   "file_extension": ".py",
   "mimetype": "text/x-python",
   "name": "python",
   "nbconvert_exporter": "python",
   "pygments_lexer": "ipython3",
   "version": "3.9.8"
  }
 },
 "nbformat": 4,
 "nbformat_minor": 2
}
