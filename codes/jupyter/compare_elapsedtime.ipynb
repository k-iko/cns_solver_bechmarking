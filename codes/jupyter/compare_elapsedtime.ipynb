{
 "cells": [
  {
   "cell_type": "code",
   "execution_count": 17,
   "metadata": {},
   "outputs": [],
   "source": [
    "import os\n",
    "import pandas as pd\n",
    "import numpy as np\n",
    "import plotly.express as px"
   ]
  },
  {
   "cell_type": "markdown",
   "metadata": {},
   "source": [
    "# 特定のcaseの場合"
   ]
  },
  {
   "cell_type": "code",
   "execution_count": 2,
   "metadata": {},
   "outputs": [],
   "source": [
    "DATA_DIR_PATH = 'results/simulation/200cust'\n",
    "INSTANCE_NAME = 'C1_2_1'"
   ]
  },
  {
   "cell_type": "code",
   "execution_count": 3,
   "metadata": {},
   "outputs": [
    {
     "data": {
      "text/html": [
       "<div>\n",
       "<style scoped>\n",
       "    .dataframe tbody tr th:only-of-type {\n",
       "        vertical-align: middle;\n",
       "    }\n",
       "\n",
       "    .dataframe tbody tr th {\n",
       "        vertical-align: top;\n",
       "    }\n",
       "\n",
       "    .dataframe thead th {\n",
       "        text-align: right;\n",
       "    }\n",
       "</style>\n",
       "<table border=\"1\" class=\"dataframe\">\n",
       "  <thead>\n",
       "    <tr style=\"text-align: right;\">\n",
       "      <th></th>\n",
       "      <th>CARG</th>\n",
       "    </tr>\n",
       "  </thead>\n",
       "  <tbody>\n",
       "    <tr>\n",
       "      <th>TOTALCOST</th>\n",
       "      <td>2704.567766</td>\n",
       "    </tr>\n",
       "    <tr>\n",
       "      <th>TOTAL_NUMBER_OF VEHICLES</th>\n",
       "      <td>20.000000</td>\n",
       "    </tr>\n",
       "    <tr>\n",
       "      <th>CONSTRUCTION_TIME</th>\n",
       "      <td>2.800000</td>\n",
       "    </tr>\n",
       "    <tr>\n",
       "      <th>IMPROVEMENT_TIME</th>\n",
       "      <td>102.700000</td>\n",
       "    </tr>\n",
       "    <tr>\n",
       "      <th>ELAPSED_TIME</th>\n",
       "      <td>105.500000</td>\n",
       "    </tr>\n",
       "  </tbody>\n",
       "</table>\n",
       "</div>"
      ],
      "text/plain": [
       "                                 CARG\n",
       "TOTALCOST                 2704.567766\n",
       "TOTAL_NUMBER_OF VEHICLES    20.000000\n",
       "CONSTRUCTION_TIME            2.800000\n",
       "IMPROVEMENT_TIME           102.700000\n",
       "ELAPSED_TIME               105.500000"
      ]
     },
     "metadata": {},
     "output_type": "display_data"
    },
    {
     "data": {
      "text/plain": [
       "{'CONSTRUCTION_TIME_CARG': 2.8,\n",
       " 'IMPROVEMENT_TIME_CARG': 102.7,\n",
       " 'ELAPSED_TIME_CARG': 105.5}"
      ]
     },
     "metadata": {},
     "output_type": "display_data"
    }
   ],
   "source": [
    "result_CARG_file_path = os.path.join(\n",
    "    DATA_DIR_PATH, f'{INSTANCE_NAME}_result_CARG.csv'\n",
    ")\n",
    "result_CARG_df = pd.read_csv(result_CARG_file_path, header=None, index_col=0, names = ['CARG'])\n",
    "display(result_CARG_df)\n",
    "result_CARG_df= result_CARG_df.rename(index={'ELAPSED_TIME': 'ELAPSED_TIME_CARG', 'CONSTRUCTION_TIME':'CONSTRUCTION_TIME_CARG', 'IMPROVEMENT_TIME':'IMPROVEMENT_TIME_CARG'})\n",
    "result_CARG_dict = result_CARG_df['CARG'].drop(['TOTALCOST', 'TOTAL_NUMBER_OF VEHICLES'], axis=0).to_dict()\n",
    "display(result_CARG_dict)"
   ]
  },
  {
   "cell_type": "code",
   "execution_count": 4,
   "metadata": {},
   "outputs": [
    {
     "data": {
      "text/html": [
       "<div>\n",
       "<style scoped>\n",
       "    .dataframe tbody tr th:only-of-type {\n",
       "        vertical-align: middle;\n",
       "    }\n",
       "\n",
       "    .dataframe tbody tr th {\n",
       "        vertical-align: top;\n",
       "    }\n",
       "\n",
       "    .dataframe thead th {\n",
       "        text-align: right;\n",
       "    }\n",
       "</style>\n",
       "<table border=\"1\" class=\"dataframe\">\n",
       "  <thead>\n",
       "    <tr style=\"text-align: right;\">\n",
       "      <th></th>\n",
       "      <th>ORTools</th>\n",
       "    </tr>\n",
       "  </thead>\n",
       "  <tbody>\n",
       "    <tr>\n",
       "      <th>TOTALCOST</th>\n",
       "      <td>2707.415062</td>\n",
       "    </tr>\n",
       "    <tr>\n",
       "      <th>TOTAL_NUMBER_OF VEHICLES</th>\n",
       "      <td>20.000000</td>\n",
       "    </tr>\n",
       "    <tr>\n",
       "      <th>ELAPSED_TIME</th>\n",
       "      <td>10.526384</td>\n",
       "    </tr>\n",
       "  </tbody>\n",
       "</table>\n",
       "</div>"
      ],
      "text/plain": [
       "                              ORTools\n",
       "TOTALCOST                 2707.415062\n",
       "TOTAL_NUMBER_OF VEHICLES    20.000000\n",
       "ELAPSED_TIME                10.526384"
      ]
     },
     "metadata": {},
     "output_type": "display_data"
    },
    {
     "data": {
      "text/plain": [
       "{'ELAPSED_TIME_ORTools': 10.526384353637695}"
      ]
     },
     "metadata": {},
     "output_type": "display_data"
    }
   ],
   "source": [
    "result_ortools_file_path = os.path.join(\n",
    "    DATA_DIR_PATH, f'{INSTANCE_NAME}_result_ortools.csv'\n",
    ")\n",
    "result_ortools_df = pd.read_csv(result_ortools_file_path, header=None, index_col=0, names = ['ORTools'])\n",
    "display(result_ortools_df)\n",
    "result_ortools_df= result_ortools_df.rename(index={'ELAPSED_TIME': 'ELAPSED_TIME_ORTools'})\n",
    "result_ortools_dict = result_ortools_df['ORTools'].drop(['TOTALCOST', 'TOTAL_NUMBER_OF VEHICLES'], axis=0).to_dict()\n",
    "display(result_ortools_dict)"
   ]
  },
  {
   "cell_type": "code",
   "execution_count": 5,
   "metadata": {},
   "outputs": [
    {
     "data": {
      "text/plain": [
       "{'case': 'C1_2_1',\n",
       " 'CONSTRUCTION_TIME_CARG': 2.8,\n",
       " 'IMPROVEMENT_TIME_CARG': 102.7,\n",
       " 'ELAPSED_TIME_CARG': 105.5,\n",
       " 'ELAPSED_TIME_ORTools': 10.526384353637695}"
      ]
     },
     "execution_count": 5,
     "metadata": {},
     "output_type": "execute_result"
    }
   ],
   "source": [
    "case_dict ={'case':INSTANCE_NAME}\n",
    "combined_dict = {**case_dict, **result_CARG_dict, **result_ortools_dict}\n",
    "combined_dict"
   ]
  },
  {
   "cell_type": "code",
   "execution_count": 6,
   "metadata": {},
   "outputs": [
    {
     "data": {
      "text/html": [
       "<div>\n",
       "<style scoped>\n",
       "    .dataframe tbody tr th:only-of-type {\n",
       "        vertical-align: middle;\n",
       "    }\n",
       "\n",
       "    .dataframe tbody tr th {\n",
       "        vertical-align: top;\n",
       "    }\n",
       "\n",
       "    .dataframe thead th {\n",
       "        text-align: right;\n",
       "    }\n",
       "</style>\n",
       "<table border=\"1\" class=\"dataframe\">\n",
       "  <thead>\n",
       "    <tr style=\"text-align: right;\">\n",
       "      <th></th>\n",
       "      <th>case</th>\n",
       "      <th>CONSTRUCTION_TIME_CARG</th>\n",
       "      <th>IMPROVEMENT_TIME_CARG</th>\n",
       "      <th>ELAPSED_TIME_CARG</th>\n",
       "      <th>ELAPSED_TIME_ORTools</th>\n",
       "    </tr>\n",
       "  </thead>\n",
       "  <tbody>\n",
       "  </tbody>\n",
       "</table>\n",
       "</div>"
      ],
      "text/plain": [
       "Empty DataFrame\n",
       "Columns: [case, CONSTRUCTION_TIME_CARG, IMPROVEMENT_TIME_CARG, ELAPSED_TIME_CARG, ELAPSED_TIME_ORTools]\n",
       "Index: []"
      ]
     },
     "execution_count": 6,
     "metadata": {},
     "output_type": "execute_result"
    }
   ],
   "source": [
    "df = pd.DataFrame(columns=[\n",
    "    'case',\n",
    "    'CONSTRUCTION_TIME_CARG',\n",
    "    'IMPROVEMENT_TIME_CARG',\n",
    "    'ELAPSED_TIME_CARG',\n",
    "    'ELAPSED_TIME_ORTools'])\n",
    "df"
   ]
  },
  {
   "cell_type": "code",
   "execution_count": 7,
   "metadata": {},
   "outputs": [
    {
     "data": {
      "text/html": [
       "<div>\n",
       "<style scoped>\n",
       "    .dataframe tbody tr th:only-of-type {\n",
       "        vertical-align: middle;\n",
       "    }\n",
       "\n",
       "    .dataframe tbody tr th {\n",
       "        vertical-align: top;\n",
       "    }\n",
       "\n",
       "    .dataframe thead th {\n",
       "        text-align: right;\n",
       "    }\n",
       "</style>\n",
       "<table border=\"1\" class=\"dataframe\">\n",
       "  <thead>\n",
       "    <tr style=\"text-align: right;\">\n",
       "      <th></th>\n",
       "      <th>CONSTRUCTION_TIME_CARG</th>\n",
       "      <th>IMPROVEMENT_TIME_CARG</th>\n",
       "      <th>ELAPSED_TIME_CARG</th>\n",
       "      <th>ELAPSED_TIME_ORTools</th>\n",
       "    </tr>\n",
       "    <tr>\n",
       "      <th>case</th>\n",
       "      <th></th>\n",
       "      <th></th>\n",
       "      <th></th>\n",
       "      <th></th>\n",
       "    </tr>\n",
       "  </thead>\n",
       "  <tbody>\n",
       "    <tr>\n",
       "      <th>C1_2_1</th>\n",
       "      <td>2.8</td>\n",
       "      <td>102.7</td>\n",
       "      <td>105.5</td>\n",
       "      <td>10.526384</td>\n",
       "    </tr>\n",
       "  </tbody>\n",
       "</table>\n",
       "</div>"
      ],
      "text/plain": [
       "        CONSTRUCTION_TIME_CARG  IMPROVEMENT_TIME_CARG  ELAPSED_TIME_CARG  \\\n",
       "case                                                                       \n",
       "C1_2_1                     2.8                  102.7              105.5   \n",
       "\n",
       "        ELAPSED_TIME_ORTools  \n",
       "case                          \n",
       "C1_2_1             10.526384  "
      ]
     },
     "execution_count": 7,
     "metadata": {},
     "output_type": "execute_result"
    }
   ],
   "source": [
    "df_add = pd.DataFrame(combined_dict, index=[0])\n",
    "df = pd.concat([df,df_add], ignore_index=True).set_index('case')\n",
    "df"
   ]
  },
  {
   "cell_type": "markdown",
   "metadata": {},
   "source": [
    "# 全てのケースの場合"
   ]
  },
  {
   "cell_type": "code",
   "execution_count": 8,
   "metadata": {},
   "outputs": [
    {
     "data": {
      "text/plain": [
       "['c101',\n",
       " 'c102',\n",
       " 'c103',\n",
       " 'c104',\n",
       " 'c105',\n",
       " 'c106',\n",
       " 'c107',\n",
       " 'c108',\n",
       " 'c109',\n",
       " 'c201',\n",
       " 'c202',\n",
       " 'c203',\n",
       " 'c204',\n",
       " 'c205',\n",
       " 'c206',\n",
       " 'c207',\n",
       " 'c208',\n",
       " 'r101',\n",
       " 'r102',\n",
       " 'r103',\n",
       " 'r104',\n",
       " 'r105',\n",
       " 'r106',\n",
       " 'r107',\n",
       " 'r108',\n",
       " 'r109',\n",
       " 'r110',\n",
       " 'r111',\n",
       " 'r112',\n",
       " 'r201',\n",
       " 'r202',\n",
       " 'r203',\n",
       " 'r204',\n",
       " 'r205',\n",
       " 'r206',\n",
       " 'r207',\n",
       " 'r208',\n",
       " 'r209',\n",
       " 'r210',\n",
       " 'r211',\n",
       " 'rc101',\n",
       " 'rc102',\n",
       " 'rc103',\n",
       " 'rc104',\n",
       " 'rc105',\n",
       " 'rc106',\n",
       " 'rc107',\n",
       " 'rc108',\n",
       " 'rc201',\n",
       " 'rc202',\n",
       " 'rc203',\n",
       " 'rc204',\n",
       " 'rc205',\n",
       " 'rc206',\n",
       " 'rc207',\n",
       " 'rc208']"
      ]
     },
     "execution_count": 8,
     "metadata": {},
     "output_type": "execute_result"
    }
   ],
   "source": [
    "# make instance list of cust\n",
    "num_cust = '100cust'\n",
    "DATA_DIR_PATH = f'results/simulation/{num_cust}'\n",
    "INSTANCE_NAMES = []\n",
    "for file_name in os.listdir(DATA_DIR_PATH):\n",
    "    if file_name.endswith('_output_CARG.csv'):\n",
    "        name_without_extension = file_name.replace('_output_CARG.csv', '')\n",
    "        INSTANCE_NAMES.append(name_without_extension)\n",
    "INSTANCE_NAMES"
   ]
  },
  {
   "cell_type": "code",
   "execution_count": 9,
   "metadata": {},
   "outputs": [],
   "source": [
    "def total_elapsedtime(instance_name):\n",
    "    DATA_DIR_PATH = f'results/simulation/{num_cust}'\n",
    "    # read CURG result\n",
    "    result_CARG_file_path = os.path.join(\n",
    "    DATA_DIR_PATH, f'{instance_name}_result_CARG.csv'\n",
    "    )\n",
    "    if os.path.exists(result_CARG_file_path):\n",
    "        result_CARG_df = pd.read_csv(result_CARG_file_path, header=None, index_col=0, names = ['CARG'])\n",
    "        result_CARG_df= result_CARG_df.rename(index={'ELAPSED_TIME': 'ELAPSED_TIME_CARG', 'CONSTRUCTION_TIME':'CONSTRUCTION_TIME_CARG', 'IMPROVEMENT_TIME':'IMPROVEMENT_TIME_CARG'})\n",
    "        result_CARG_dict = result_CARG_df['CARG'].drop(['TOTALCOST', 'TOTAL_NUMBER_OF VEHICLES'], axis=0).to_dict()\n",
    "        # read ORTools result\n",
    "        result_ortools_file_path = os.path.join(\n",
    "        DATA_DIR_PATH, f'{instance_name}_result_ortools.csv'\n",
    "        )\n",
    "        result_ortools_df = pd.read_csv(result_ortools_file_path, header=None, index_col=0, names = ['ORTools'])\n",
    "        result_ortools_df= result_ortools_df.rename(index={'ELAPSED_TIME': 'ELAPSED_TIME_ORTools'})\n",
    "        result_ortools_dict = result_ortools_df['ORTools'].drop(['TOTALCOST', 'TOTAL_NUMBER_OF VEHICLES'], axis=0).to_dict()\n",
    "        # make elapsed time dict per instance_name\n",
    "        case_dict ={'case':instance_name}\n",
    "        combined_dict = {**case_dict, **result_CARG_dict, **result_ortools_dict}\n",
    "        return combined_dict\n",
    "    else:\n",
    "        return 0"
   ]
  },
  {
   "cell_type": "code",
   "execution_count": 15,
   "metadata": {},
   "outputs": [
    {
     "data": {
      "text/html": [
       "<div>\n",
       "<style scoped>\n",
       "    .dataframe tbody tr th:only-of-type {\n",
       "        vertical-align: middle;\n",
       "    }\n",
       "\n",
       "    .dataframe tbody tr th {\n",
       "        vertical-align: top;\n",
       "    }\n",
       "\n",
       "    .dataframe thead th {\n",
       "        text-align: right;\n",
       "    }\n",
       "</style>\n",
       "<table border=\"1\" class=\"dataframe\">\n",
       "  <thead>\n",
       "    <tr style=\"text-align: right;\">\n",
       "      <th></th>\n",
       "      <th>CONSTRUCTION_TIME_CARG</th>\n",
       "      <th>IMPROVEMENT_TIME_CARG</th>\n",
       "      <th>ELAPSED_TIME_CARG</th>\n",
       "      <th>ELAPSED_TIME_ORTools</th>\n",
       "    </tr>\n",
       "    <tr>\n",
       "      <th>case</th>\n",
       "      <th></th>\n",
       "      <th></th>\n",
       "      <th></th>\n",
       "      <th></th>\n",
       "    </tr>\n",
       "  </thead>\n",
       "  <tbody>\n",
       "    <tr>\n",
       "      <th>c101</th>\n",
       "      <td>1.4</td>\n",
       "      <td>11.1</td>\n",
       "      <td>12.5</td>\n",
       "      <td>0.449310</td>\n",
       "    </tr>\n",
       "    <tr>\n",
       "      <th>c102</th>\n",
       "      <td>1.8</td>\n",
       "      <td>33.6</td>\n",
       "      <td>35.4</td>\n",
       "      <td>0.882284</td>\n",
       "    </tr>\n",
       "    <tr>\n",
       "      <th>c103</th>\n",
       "      <td>1.9</td>\n",
       "      <td>21.5</td>\n",
       "      <td>23.4</td>\n",
       "      <td>0.747648</td>\n",
       "    </tr>\n",
       "    <tr>\n",
       "      <th>c104</th>\n",
       "      <td>2.0</td>\n",
       "      <td>30.9</td>\n",
       "      <td>32.9</td>\n",
       "      <td>0.898580</td>\n",
       "    </tr>\n",
       "    <tr>\n",
       "      <th>c105</th>\n",
       "      <td>1.6</td>\n",
       "      <td>19.0</td>\n",
       "      <td>20.6</td>\n",
       "      <td>0.542388</td>\n",
       "    </tr>\n",
       "    <tr>\n",
       "      <th>c106</th>\n",
       "      <td>3.2</td>\n",
       "      <td>31.0</td>\n",
       "      <td>34.2</td>\n",
       "      <td>0.466306</td>\n",
       "    </tr>\n",
       "    <tr>\n",
       "      <th>c107</th>\n",
       "      <td>2.3</td>\n",
       "      <td>24.4</td>\n",
       "      <td>26.7</td>\n",
       "      <td>0.661864</td>\n",
       "    </tr>\n",
       "    <tr>\n",
       "      <th>c108</th>\n",
       "      <td>2.5</td>\n",
       "      <td>31.6</td>\n",
       "      <td>34.1</td>\n",
       "      <td>0.712667</td>\n",
       "    </tr>\n",
       "    <tr>\n",
       "      <th>c109</th>\n",
       "      <td>3.5</td>\n",
       "      <td>37.2</td>\n",
       "      <td>40.7</td>\n",
       "      <td>0.880135</td>\n",
       "    </tr>\n",
       "    <tr>\n",
       "      <th>c201</th>\n",
       "      <td>2.1</td>\n",
       "      <td>70.7</td>\n",
       "      <td>72.8</td>\n",
       "      <td>0.587911</td>\n",
       "    </tr>\n",
       "    <tr>\n",
       "      <th>c202</th>\n",
       "      <td>3.3</td>\n",
       "      <td>129.9</td>\n",
       "      <td>133.2</td>\n",
       "      <td>0.726113</td>\n",
       "    </tr>\n",
       "    <tr>\n",
       "      <th>c203</th>\n",
       "      <td>2.4</td>\n",
       "      <td>156.4</td>\n",
       "      <td>158.8</td>\n",
       "      <td>1.140094</td>\n",
       "    </tr>\n",
       "    <tr>\n",
       "      <th>c204</th>\n",
       "      <td>2.4</td>\n",
       "      <td>294.2</td>\n",
       "      <td>296.6</td>\n",
       "      <td>1.294641</td>\n",
       "    </tr>\n",
       "    <tr>\n",
       "      <th>c205</th>\n",
       "      <td>2.2</td>\n",
       "      <td>179.8</td>\n",
       "      <td>182.0</td>\n",
       "      <td>0.903265</td>\n",
       "    </tr>\n",
       "    <tr>\n",
       "      <th>c206</th>\n",
       "      <td>1.9</td>\n",
       "      <td>265.8</td>\n",
       "      <td>267.7</td>\n",
       "      <td>0.758969</td>\n",
       "    </tr>\n",
       "    <tr>\n",
       "      <th>c207</th>\n",
       "      <td>2.2</td>\n",
       "      <td>202.7</td>\n",
       "      <td>204.9</td>\n",
       "      <td>0.774268</td>\n",
       "    </tr>\n",
       "    <tr>\n",
       "      <th>c208</th>\n",
       "      <td>2.0</td>\n",
       "      <td>170.8</td>\n",
       "      <td>172.8</td>\n",
       "      <td>0.675310</td>\n",
       "    </tr>\n",
       "    <tr>\n",
       "      <th>r101</th>\n",
       "      <td>1.4</td>\n",
       "      <td>18.0</td>\n",
       "      <td>19.4</td>\n",
       "      <td>1.062713</td>\n",
       "    </tr>\n",
       "    <tr>\n",
       "      <th>r102</th>\n",
       "      <td>1.6</td>\n",
       "      <td>29.0</td>\n",
       "      <td>30.6</td>\n",
       "      <td>0.694794</td>\n",
       "    </tr>\n",
       "    <tr>\n",
       "      <th>r103</th>\n",
       "      <td>1.8</td>\n",
       "      <td>37.3</td>\n",
       "      <td>39.1</td>\n",
       "      <td>0.612853</td>\n",
       "    </tr>\n",
       "    <tr>\n",
       "      <th>r104</th>\n",
       "      <td>1.9</td>\n",
       "      <td>49.8</td>\n",
       "      <td>51.7</td>\n",
       "      <td>1.190429</td>\n",
       "    </tr>\n",
       "    <tr>\n",
       "      <th>r105</th>\n",
       "      <td>1.6</td>\n",
       "      <td>28.5</td>\n",
       "      <td>30.1</td>\n",
       "      <td>0.751560</td>\n",
       "    </tr>\n",
       "    <tr>\n",
       "      <th>r106</th>\n",
       "      <td>1.9</td>\n",
       "      <td>34.3</td>\n",
       "      <td>36.2</td>\n",
       "      <td>0.774014</td>\n",
       "    </tr>\n",
       "    <tr>\n",
       "      <th>r107</th>\n",
       "      <td>1.9</td>\n",
       "      <td>48.0</td>\n",
       "      <td>49.9</td>\n",
       "      <td>0.833709</td>\n",
       "    </tr>\n",
       "    <tr>\n",
       "      <th>r108</th>\n",
       "      <td>2.0</td>\n",
       "      <td>55.2</td>\n",
       "      <td>57.2</td>\n",
       "      <td>1.378187</td>\n",
       "    </tr>\n",
       "    <tr>\n",
       "      <th>r109</th>\n",
       "      <td>1.9</td>\n",
       "      <td>40.0</td>\n",
       "      <td>41.9</td>\n",
       "      <td>0.816586</td>\n",
       "    </tr>\n",
       "    <tr>\n",
       "      <th>r110</th>\n",
       "      <td>2.0</td>\n",
       "      <td>33.8</td>\n",
       "      <td>35.8</td>\n",
       "      <td>0.714601</td>\n",
       "    </tr>\n",
       "    <tr>\n",
       "      <th>r111</th>\n",
       "      <td>1.9</td>\n",
       "      <td>45.0</td>\n",
       "      <td>46.9</td>\n",
       "      <td>1.281959</td>\n",
       "    </tr>\n",
       "    <tr>\n",
       "      <th>r112</th>\n",
       "      <td>1.8</td>\n",
       "      <td>43.0</td>\n",
       "      <td>44.8</td>\n",
       "      <td>1.018532</td>\n",
       "    </tr>\n",
       "    <tr>\n",
       "      <th>r201</th>\n",
       "      <td>2.1</td>\n",
       "      <td>135.9</td>\n",
       "      <td>138.0</td>\n",
       "      <td>0.817114</td>\n",
       "    </tr>\n",
       "    <tr>\n",
       "      <th>r202</th>\n",
       "      <td>2.3</td>\n",
       "      <td>203.9</td>\n",
       "      <td>206.2</td>\n",
       "      <td>1.145120</td>\n",
       "    </tr>\n",
       "    <tr>\n",
       "      <th>r203</th>\n",
       "      <td>2.6</td>\n",
       "      <td>271.4</td>\n",
       "      <td>274.0</td>\n",
       "      <td>0.988301</td>\n",
       "    </tr>\n",
       "    <tr>\n",
       "      <th>r204</th>\n",
       "      <td>3.5</td>\n",
       "      <td>345.2</td>\n",
       "      <td>348.7</td>\n",
       "      <td>0.764630</td>\n",
       "    </tr>\n",
       "    <tr>\n",
       "      <th>r205</th>\n",
       "      <td>2.1</td>\n",
       "      <td>238.2</td>\n",
       "      <td>240.3</td>\n",
       "      <td>1.211402</td>\n",
       "    </tr>\n",
       "    <tr>\n",
       "      <th>r206</th>\n",
       "      <td>2.7</td>\n",
       "      <td>210.4</td>\n",
       "      <td>213.1</td>\n",
       "      <td>0.876851</td>\n",
       "    </tr>\n",
       "    <tr>\n",
       "      <th>r207</th>\n",
       "      <td>2.9</td>\n",
       "      <td>311.0</td>\n",
       "      <td>313.9</td>\n",
       "      <td>0.827176</td>\n",
       "    </tr>\n",
       "    <tr>\n",
       "      <th>r208</th>\n",
       "      <td>2.8</td>\n",
       "      <td>370.9</td>\n",
       "      <td>373.7</td>\n",
       "      <td>0.676519</td>\n",
       "    </tr>\n",
       "    <tr>\n",
       "      <th>r209</th>\n",
       "      <td>2.5</td>\n",
       "      <td>187.7</td>\n",
       "      <td>190.2</td>\n",
       "      <td>1.008149</td>\n",
       "    </tr>\n",
       "    <tr>\n",
       "      <th>r210</th>\n",
       "      <td>2.6</td>\n",
       "      <td>249.8</td>\n",
       "      <td>252.4</td>\n",
       "      <td>0.998252</td>\n",
       "    </tr>\n",
       "    <tr>\n",
       "      <th>r211</th>\n",
       "      <td>3.0</td>\n",
       "      <td>333.6</td>\n",
       "      <td>336.6</td>\n",
       "      <td>1.219107</td>\n",
       "    </tr>\n",
       "    <tr>\n",
       "      <th>rc101</th>\n",
       "      <td>1.5</td>\n",
       "      <td>26.1</td>\n",
       "      <td>27.6</td>\n",
       "      <td>0.732087</td>\n",
       "    </tr>\n",
       "    <tr>\n",
       "      <th>rc102</th>\n",
       "      <td>2.0</td>\n",
       "      <td>35.9</td>\n",
       "      <td>37.9</td>\n",
       "      <td>1.005424</td>\n",
       "    </tr>\n",
       "    <tr>\n",
       "      <th>rc103</th>\n",
       "      <td>1.7</td>\n",
       "      <td>55.1</td>\n",
       "      <td>56.8</td>\n",
       "      <td>1.070175</td>\n",
       "    </tr>\n",
       "    <tr>\n",
       "      <th>rc104</th>\n",
       "      <td>1.8</td>\n",
       "      <td>28.1</td>\n",
       "      <td>29.9</td>\n",
       "      <td>1.433902</td>\n",
       "    </tr>\n",
       "    <tr>\n",
       "      <th>rc105</th>\n",
       "      <td>1.9</td>\n",
       "      <td>34.9</td>\n",
       "      <td>36.8</td>\n",
       "      <td>0.929631</td>\n",
       "    </tr>\n",
       "    <tr>\n",
       "      <th>rc106</th>\n",
       "      <td>1.8</td>\n",
       "      <td>22.0</td>\n",
       "      <td>23.8</td>\n",
       "      <td>0.790075</td>\n",
       "    </tr>\n",
       "    <tr>\n",
       "      <th>rc107</th>\n",
       "      <td>1.9</td>\n",
       "      <td>41.7</td>\n",
       "      <td>43.6</td>\n",
       "      <td>0.991139</td>\n",
       "    </tr>\n",
       "    <tr>\n",
       "      <th>rc108</th>\n",
       "      <td>1.7</td>\n",
       "      <td>33.4</td>\n",
       "      <td>35.1</td>\n",
       "      <td>1.078826</td>\n",
       "    </tr>\n",
       "    <tr>\n",
       "      <th>rc201</th>\n",
       "      <td>2.0</td>\n",
       "      <td>106.5</td>\n",
       "      <td>108.5</td>\n",
       "      <td>0.774295</td>\n",
       "    </tr>\n",
       "    <tr>\n",
       "      <th>rc202</th>\n",
       "      <td>2.2</td>\n",
       "      <td>122.3</td>\n",
       "      <td>124.5</td>\n",
       "      <td>0.787668</td>\n",
       "    </tr>\n",
       "    <tr>\n",
       "      <th>rc203</th>\n",
       "      <td>2.4</td>\n",
       "      <td>149.6</td>\n",
       "      <td>152.0</td>\n",
       "      <td>0.992913</td>\n",
       "    </tr>\n",
       "    <tr>\n",
       "      <th>rc204</th>\n",
       "      <td>2.8</td>\n",
       "      <td>170.1</td>\n",
       "      <td>172.9</td>\n",
       "      <td>0.748694</td>\n",
       "    </tr>\n",
       "    <tr>\n",
       "      <th>rc205</th>\n",
       "      <td>2.2</td>\n",
       "      <td>116.7</td>\n",
       "      <td>118.9</td>\n",
       "      <td>1.341306</td>\n",
       "    </tr>\n",
       "    <tr>\n",
       "      <th>rc206</th>\n",
       "      <td>2.3</td>\n",
       "      <td>117.0</td>\n",
       "      <td>119.3</td>\n",
       "      <td>0.974138</td>\n",
       "    </tr>\n",
       "    <tr>\n",
       "      <th>rc207</th>\n",
       "      <td>2.2</td>\n",
       "      <td>199.2</td>\n",
       "      <td>201.4</td>\n",
       "      <td>1.188544</td>\n",
       "    </tr>\n",
       "    <tr>\n",
       "      <th>rc208</th>\n",
       "      <td>2.5</td>\n",
       "      <td>338.0</td>\n",
       "      <td>340.5</td>\n",
       "      <td>0.998203</td>\n",
       "    </tr>\n",
       "  </tbody>\n",
       "</table>\n",
       "</div>"
      ],
      "text/plain": [
       "       CONSTRUCTION_TIME_CARG  IMPROVEMENT_TIME_CARG  ELAPSED_TIME_CARG  \\\n",
       "case                                                                      \n",
       "c101                      1.4                   11.1               12.5   \n",
       "c102                      1.8                   33.6               35.4   \n",
       "c103                      1.9                   21.5               23.4   \n",
       "c104                      2.0                   30.9               32.9   \n",
       "c105                      1.6                   19.0               20.6   \n",
       "c106                      3.2                   31.0               34.2   \n",
       "c107                      2.3                   24.4               26.7   \n",
       "c108                      2.5                   31.6               34.1   \n",
       "c109                      3.5                   37.2               40.7   \n",
       "c201                      2.1                   70.7               72.8   \n",
       "c202                      3.3                  129.9              133.2   \n",
       "c203                      2.4                  156.4              158.8   \n",
       "c204                      2.4                  294.2              296.6   \n",
       "c205                      2.2                  179.8              182.0   \n",
       "c206                      1.9                  265.8              267.7   \n",
       "c207                      2.2                  202.7              204.9   \n",
       "c208                      2.0                  170.8              172.8   \n",
       "r101                      1.4                   18.0               19.4   \n",
       "r102                      1.6                   29.0               30.6   \n",
       "r103                      1.8                   37.3               39.1   \n",
       "r104                      1.9                   49.8               51.7   \n",
       "r105                      1.6                   28.5               30.1   \n",
       "r106                      1.9                   34.3               36.2   \n",
       "r107                      1.9                   48.0               49.9   \n",
       "r108                      2.0                   55.2               57.2   \n",
       "r109                      1.9                   40.0               41.9   \n",
       "r110                      2.0                   33.8               35.8   \n",
       "r111                      1.9                   45.0               46.9   \n",
       "r112                      1.8                   43.0               44.8   \n",
       "r201                      2.1                  135.9              138.0   \n",
       "r202                      2.3                  203.9              206.2   \n",
       "r203                      2.6                  271.4              274.0   \n",
       "r204                      3.5                  345.2              348.7   \n",
       "r205                      2.1                  238.2              240.3   \n",
       "r206                      2.7                  210.4              213.1   \n",
       "r207                      2.9                  311.0              313.9   \n",
       "r208                      2.8                  370.9              373.7   \n",
       "r209                      2.5                  187.7              190.2   \n",
       "r210                      2.6                  249.8              252.4   \n",
       "r211                      3.0                  333.6              336.6   \n",
       "rc101                     1.5                   26.1               27.6   \n",
       "rc102                     2.0                   35.9               37.9   \n",
       "rc103                     1.7                   55.1               56.8   \n",
       "rc104                     1.8                   28.1               29.9   \n",
       "rc105                     1.9                   34.9               36.8   \n",
       "rc106                     1.8                   22.0               23.8   \n",
       "rc107                     1.9                   41.7               43.6   \n",
       "rc108                     1.7                   33.4               35.1   \n",
       "rc201                     2.0                  106.5              108.5   \n",
       "rc202                     2.2                  122.3              124.5   \n",
       "rc203                     2.4                  149.6              152.0   \n",
       "rc204                     2.8                  170.1              172.9   \n",
       "rc205                     2.2                  116.7              118.9   \n",
       "rc206                     2.3                  117.0              119.3   \n",
       "rc207                     2.2                  199.2              201.4   \n",
       "rc208                     2.5                  338.0              340.5   \n",
       "\n",
       "       ELAPSED_TIME_ORTools  \n",
       "case                         \n",
       "c101               0.449310  \n",
       "c102               0.882284  \n",
       "c103               0.747648  \n",
       "c104               0.898580  \n",
       "c105               0.542388  \n",
       "c106               0.466306  \n",
       "c107               0.661864  \n",
       "c108               0.712667  \n",
       "c109               0.880135  \n",
       "c201               0.587911  \n",
       "c202               0.726113  \n",
       "c203               1.140094  \n",
       "c204               1.294641  \n",
       "c205               0.903265  \n",
       "c206               0.758969  \n",
       "c207               0.774268  \n",
       "c208               0.675310  \n",
       "r101               1.062713  \n",
       "r102               0.694794  \n",
       "r103               0.612853  \n",
       "r104               1.190429  \n",
       "r105               0.751560  \n",
       "r106               0.774014  \n",
       "r107               0.833709  \n",
       "r108               1.378187  \n",
       "r109               0.816586  \n",
       "r110               0.714601  \n",
       "r111               1.281959  \n",
       "r112               1.018532  \n",
       "r201               0.817114  \n",
       "r202               1.145120  \n",
       "r203               0.988301  \n",
       "r204               0.764630  \n",
       "r205               1.211402  \n",
       "r206               0.876851  \n",
       "r207               0.827176  \n",
       "r208               0.676519  \n",
       "r209               1.008149  \n",
       "r210               0.998252  \n",
       "r211               1.219107  \n",
       "rc101              0.732087  \n",
       "rc102              1.005424  \n",
       "rc103              1.070175  \n",
       "rc104              1.433902  \n",
       "rc105              0.929631  \n",
       "rc106              0.790075  \n",
       "rc107              0.991139  \n",
       "rc108              1.078826  \n",
       "rc201              0.774295  \n",
       "rc202              0.787668  \n",
       "rc203              0.992913  \n",
       "rc204              0.748694  \n",
       "rc205              1.341306  \n",
       "rc206              0.974138  \n",
       "rc207              1.188544  \n",
       "rc208              0.998203  "
      ]
     },
     "execution_count": 15,
     "metadata": {},
     "output_type": "execute_result"
    }
   ],
   "source": [
    "temp_df = pd.DataFrame(columns=[\n",
    "    'case',\n",
    "    'CONSTRUCTION_TIME_CARG',\n",
    "    'IMPROVEMENT_TIME_CARG',\n",
    "    'ELAPSED_TIME_CARG',\n",
    "    'ELAPSED_TIME_ORTools'])\n",
    "for ins in INSTANCE_NAMES:\n",
    "    each_result = total_elapsedtime(ins)\n",
    "    if each_result != 0:\n",
    "        df_add = pd.DataFrame(each_result, index=[0])\n",
    "        temp_df = pd.concat([temp_df,df_add], ignore_index=True)\n",
    "temp_df.set_index('case')"
   ]
  },
  {
   "cell_type": "code",
   "execution_count": 20,
   "metadata": {},
   "outputs": [
    {
     "data": {
      "application/vnd.plotly.v1+json": {
       "config": {
        "plotlyServerURL": "https://plot.ly"
       },
       "data": [
        {
         "alignmentgroup": "True",
         "hovertemplate": "case=%{x}<br>ELAPSED_TIME_ORTools=%{y}<extra></extra>",
         "legendgroup": "",
         "marker": {
          "color": "#636efa",
          "pattern": {
           "shape": ""
          }
         },
         "name": "",
         "offsetgroup": "",
         "orientation": "v",
         "showlegend": false,
         "textposition": "auto",
         "type": "bar",
         "x": [
          "c101",
          "c102",
          "c103",
          "c104",
          "c105",
          "c106",
          "c107",
          "c108",
          "c109",
          "c201",
          "c202",
          "c203",
          "c204",
          "c205",
          "c206",
          "c207",
          "c208",
          "r101",
          "r102",
          "r103",
          "r104",
          "r105",
          "r106",
          "r107",
          "r108",
          "r109",
          "r110",
          "r111",
          "r112",
          "r201",
          "r202",
          "r203",
          "r204",
          "r205",
          "r206",
          "r207",
          "r208",
          "r209",
          "r210",
          "r211",
          "rc101",
          "rc102",
          "rc103",
          "rc104",
          "rc105",
          "rc106",
          "rc107",
          "rc108",
          "rc201",
          "rc202",
          "rc203",
          "rc204",
          "rc205",
          "rc206",
          "rc207",
          "rc208"
         ],
         "xaxis": "x",
         "y": [
          0.449310302734375,
          0.8822839260101318,
          0.7476484775543213,
          0.8985803127288818,
          0.5423879623413086,
          0.466306209564209,
          0.6618640422821045,
          0.7126672267913818,
          0.8801345825195312,
          0.5879108905792236,
          0.7261133193969727,
          1.1400938034057615,
          1.2946414947509766,
          0.9032647609710692,
          0.7589690685272217,
          0.7742679119110107,
          0.6753098964691162,
          1.0627129077911377,
          0.6947939395904541,
          0.6128525733947754,
          1.190429449081421,
          0.7515599727630615,
          0.7740139961242676,
          0.8337094783782959,
          1.3781874179840088,
          0.8165862560272217,
          0.7146005630493164,
          1.2819585800170898,
          1.0185320377349854,
          0.8171138763427734,
          1.1451196670532229,
          0.9883012771606444,
          0.7646303176879883,
          1.2114019393920898,
          0.8768513202667236,
          0.8271756172180176,
          0.6765191555023193,
          1.0081489086151123,
          0.9982516765594482,
          1.2191073894500732,
          0.7320868968963623,
          1.0054235458374023,
          1.0701754093170166,
          1.4339017868041992,
          0.9296307563781738,
          0.7900748252868652,
          0.9911389350891112,
          1.0788259506225586,
          0.7742950916290283,
          0.7876675128936768,
          0.992912769317627,
          0.7486941814422607,
          1.3413057327270508,
          0.9741380214691162,
          1.1885435581207275,
          0.9982030391693116
         ],
         "yaxis": "y"
        }
       ],
       "layout": {
        "barmode": "relative",
        "legend": {
         "tracegroupgap": 0
        },
        "template": {
         "data": {
          "bar": [
           {
            "error_x": {
             "color": "#2a3f5f"
            },
            "error_y": {
             "color": "#2a3f5f"
            },
            "marker": {
             "line": {
              "color": "#E5ECF6",
              "width": 0.5
             },
             "pattern": {
              "fillmode": "overlay",
              "size": 10,
              "solidity": 0.2
             }
            },
            "type": "bar"
           }
          ],
          "barpolar": [
           {
            "marker": {
             "line": {
              "color": "#E5ECF6",
              "width": 0.5
             },
             "pattern": {
              "fillmode": "overlay",
              "size": 10,
              "solidity": 0.2
             }
            },
            "type": "barpolar"
           }
          ],
          "carpet": [
           {
            "aaxis": {
             "endlinecolor": "#2a3f5f",
             "gridcolor": "white",
             "linecolor": "white",
             "minorgridcolor": "white",
             "startlinecolor": "#2a3f5f"
            },
            "baxis": {
             "endlinecolor": "#2a3f5f",
             "gridcolor": "white",
             "linecolor": "white",
             "minorgridcolor": "white",
             "startlinecolor": "#2a3f5f"
            },
            "type": "carpet"
           }
          ],
          "choropleth": [
           {
            "colorbar": {
             "outlinewidth": 0,
             "ticks": ""
            },
            "type": "choropleth"
           }
          ],
          "contour": [
           {
            "colorbar": {
             "outlinewidth": 0,
             "ticks": ""
            },
            "colorscale": [
             [
              0,
              "#0d0887"
             ],
             [
              0.1111111111111111,
              "#46039f"
             ],
             [
              0.2222222222222222,
              "#7201a8"
             ],
             [
              0.3333333333333333,
              "#9c179e"
             ],
             [
              0.4444444444444444,
              "#bd3786"
             ],
             [
              0.5555555555555556,
              "#d8576b"
             ],
             [
              0.6666666666666666,
              "#ed7953"
             ],
             [
              0.7777777777777778,
              "#fb9f3a"
             ],
             [
              0.8888888888888888,
              "#fdca26"
             ],
             [
              1,
              "#f0f921"
             ]
            ],
            "type": "contour"
           }
          ],
          "contourcarpet": [
           {
            "colorbar": {
             "outlinewidth": 0,
             "ticks": ""
            },
            "type": "contourcarpet"
           }
          ],
          "heatmap": [
           {
            "colorbar": {
             "outlinewidth": 0,
             "ticks": ""
            },
            "colorscale": [
             [
              0,
              "#0d0887"
             ],
             [
              0.1111111111111111,
              "#46039f"
             ],
             [
              0.2222222222222222,
              "#7201a8"
             ],
             [
              0.3333333333333333,
              "#9c179e"
             ],
             [
              0.4444444444444444,
              "#bd3786"
             ],
             [
              0.5555555555555556,
              "#d8576b"
             ],
             [
              0.6666666666666666,
              "#ed7953"
             ],
             [
              0.7777777777777778,
              "#fb9f3a"
             ],
             [
              0.8888888888888888,
              "#fdca26"
             ],
             [
              1,
              "#f0f921"
             ]
            ],
            "type": "heatmap"
           }
          ],
          "heatmapgl": [
           {
            "colorbar": {
             "outlinewidth": 0,
             "ticks": ""
            },
            "colorscale": [
             [
              0,
              "#0d0887"
             ],
             [
              0.1111111111111111,
              "#46039f"
             ],
             [
              0.2222222222222222,
              "#7201a8"
             ],
             [
              0.3333333333333333,
              "#9c179e"
             ],
             [
              0.4444444444444444,
              "#bd3786"
             ],
             [
              0.5555555555555556,
              "#d8576b"
             ],
             [
              0.6666666666666666,
              "#ed7953"
             ],
             [
              0.7777777777777778,
              "#fb9f3a"
             ],
             [
              0.8888888888888888,
              "#fdca26"
             ],
             [
              1,
              "#f0f921"
             ]
            ],
            "type": "heatmapgl"
           }
          ],
          "histogram": [
           {
            "marker": {
             "pattern": {
              "fillmode": "overlay",
              "size": 10,
              "solidity": 0.2
             }
            },
            "type": "histogram"
           }
          ],
          "histogram2d": [
           {
            "colorbar": {
             "outlinewidth": 0,
             "ticks": ""
            },
            "colorscale": [
             [
              0,
              "#0d0887"
             ],
             [
              0.1111111111111111,
              "#46039f"
             ],
             [
              0.2222222222222222,
              "#7201a8"
             ],
             [
              0.3333333333333333,
              "#9c179e"
             ],
             [
              0.4444444444444444,
              "#bd3786"
             ],
             [
              0.5555555555555556,
              "#d8576b"
             ],
             [
              0.6666666666666666,
              "#ed7953"
             ],
             [
              0.7777777777777778,
              "#fb9f3a"
             ],
             [
              0.8888888888888888,
              "#fdca26"
             ],
             [
              1,
              "#f0f921"
             ]
            ],
            "type": "histogram2d"
           }
          ],
          "histogram2dcontour": [
           {
            "colorbar": {
             "outlinewidth": 0,
             "ticks": ""
            },
            "colorscale": [
             [
              0,
              "#0d0887"
             ],
             [
              0.1111111111111111,
              "#46039f"
             ],
             [
              0.2222222222222222,
              "#7201a8"
             ],
             [
              0.3333333333333333,
              "#9c179e"
             ],
             [
              0.4444444444444444,
              "#bd3786"
             ],
             [
              0.5555555555555556,
              "#d8576b"
             ],
             [
              0.6666666666666666,
              "#ed7953"
             ],
             [
              0.7777777777777778,
              "#fb9f3a"
             ],
             [
              0.8888888888888888,
              "#fdca26"
             ],
             [
              1,
              "#f0f921"
             ]
            ],
            "type": "histogram2dcontour"
           }
          ],
          "mesh3d": [
           {
            "colorbar": {
             "outlinewidth": 0,
             "ticks": ""
            },
            "type": "mesh3d"
           }
          ],
          "parcoords": [
           {
            "line": {
             "colorbar": {
              "outlinewidth": 0,
              "ticks": ""
             }
            },
            "type": "parcoords"
           }
          ],
          "pie": [
           {
            "automargin": true,
            "type": "pie"
           }
          ],
          "scatter": [
           {
            "fillpattern": {
             "fillmode": "overlay",
             "size": 10,
             "solidity": 0.2
            },
            "type": "scatter"
           }
          ],
          "scatter3d": [
           {
            "line": {
             "colorbar": {
              "outlinewidth": 0,
              "ticks": ""
             }
            },
            "marker": {
             "colorbar": {
              "outlinewidth": 0,
              "ticks": ""
             }
            },
            "type": "scatter3d"
           }
          ],
          "scattercarpet": [
           {
            "marker": {
             "colorbar": {
              "outlinewidth": 0,
              "ticks": ""
             }
            },
            "type": "scattercarpet"
           }
          ],
          "scattergeo": [
           {
            "marker": {
             "colorbar": {
              "outlinewidth": 0,
              "ticks": ""
             }
            },
            "type": "scattergeo"
           }
          ],
          "scattergl": [
           {
            "marker": {
             "colorbar": {
              "outlinewidth": 0,
              "ticks": ""
             }
            },
            "type": "scattergl"
           }
          ],
          "scattermapbox": [
           {
            "marker": {
             "colorbar": {
              "outlinewidth": 0,
              "ticks": ""
             }
            },
            "type": "scattermapbox"
           }
          ],
          "scatterpolar": [
           {
            "marker": {
             "colorbar": {
              "outlinewidth": 0,
              "ticks": ""
             }
            },
            "type": "scatterpolar"
           }
          ],
          "scatterpolargl": [
           {
            "marker": {
             "colorbar": {
              "outlinewidth": 0,
              "ticks": ""
             }
            },
            "type": "scatterpolargl"
           }
          ],
          "scatterternary": [
           {
            "marker": {
             "colorbar": {
              "outlinewidth": 0,
              "ticks": ""
             }
            },
            "type": "scatterternary"
           }
          ],
          "surface": [
           {
            "colorbar": {
             "outlinewidth": 0,
             "ticks": ""
            },
            "colorscale": [
             [
              0,
              "#0d0887"
             ],
             [
              0.1111111111111111,
              "#46039f"
             ],
             [
              0.2222222222222222,
              "#7201a8"
             ],
             [
              0.3333333333333333,
              "#9c179e"
             ],
             [
              0.4444444444444444,
              "#bd3786"
             ],
             [
              0.5555555555555556,
              "#d8576b"
             ],
             [
              0.6666666666666666,
              "#ed7953"
             ],
             [
              0.7777777777777778,
              "#fb9f3a"
             ],
             [
              0.8888888888888888,
              "#fdca26"
             ],
             [
              1,
              "#f0f921"
             ]
            ],
            "type": "surface"
           }
          ],
          "table": [
           {
            "cells": {
             "fill": {
              "color": "#EBF0F8"
             },
             "line": {
              "color": "white"
             }
            },
            "header": {
             "fill": {
              "color": "#C8D4E3"
             },
             "line": {
              "color": "white"
             }
            },
            "type": "table"
           }
          ]
         },
         "layout": {
          "annotationdefaults": {
           "arrowcolor": "#2a3f5f",
           "arrowhead": 0,
           "arrowwidth": 1
          },
          "autotypenumbers": "strict",
          "coloraxis": {
           "colorbar": {
            "outlinewidth": 0,
            "ticks": ""
           }
          },
          "colorscale": {
           "diverging": [
            [
             0,
             "#8e0152"
            ],
            [
             0.1,
             "#c51b7d"
            ],
            [
             0.2,
             "#de77ae"
            ],
            [
             0.3,
             "#f1b6da"
            ],
            [
             0.4,
             "#fde0ef"
            ],
            [
             0.5,
             "#f7f7f7"
            ],
            [
             0.6,
             "#e6f5d0"
            ],
            [
             0.7,
             "#b8e186"
            ],
            [
             0.8,
             "#7fbc41"
            ],
            [
             0.9,
             "#4d9221"
            ],
            [
             1,
             "#276419"
            ]
           ],
           "sequential": [
            [
             0,
             "#0d0887"
            ],
            [
             0.1111111111111111,
             "#46039f"
            ],
            [
             0.2222222222222222,
             "#7201a8"
            ],
            [
             0.3333333333333333,
             "#9c179e"
            ],
            [
             0.4444444444444444,
             "#bd3786"
            ],
            [
             0.5555555555555556,
             "#d8576b"
            ],
            [
             0.6666666666666666,
             "#ed7953"
            ],
            [
             0.7777777777777778,
             "#fb9f3a"
            ],
            [
             0.8888888888888888,
             "#fdca26"
            ],
            [
             1,
             "#f0f921"
            ]
           ],
           "sequentialminus": [
            [
             0,
             "#0d0887"
            ],
            [
             0.1111111111111111,
             "#46039f"
            ],
            [
             0.2222222222222222,
             "#7201a8"
            ],
            [
             0.3333333333333333,
             "#9c179e"
            ],
            [
             0.4444444444444444,
             "#bd3786"
            ],
            [
             0.5555555555555556,
             "#d8576b"
            ],
            [
             0.6666666666666666,
             "#ed7953"
            ],
            [
             0.7777777777777778,
             "#fb9f3a"
            ],
            [
             0.8888888888888888,
             "#fdca26"
            ],
            [
             1,
             "#f0f921"
            ]
           ]
          },
          "colorway": [
           "#636efa",
           "#EF553B",
           "#00cc96",
           "#ab63fa",
           "#FFA15A",
           "#19d3f3",
           "#FF6692",
           "#B6E880",
           "#FF97FF",
           "#FECB52"
          ],
          "font": {
           "color": "#2a3f5f"
          },
          "geo": {
           "bgcolor": "white",
           "lakecolor": "white",
           "landcolor": "#E5ECF6",
           "showlakes": true,
           "showland": true,
           "subunitcolor": "white"
          },
          "hoverlabel": {
           "align": "left"
          },
          "hovermode": "closest",
          "mapbox": {
           "style": "light"
          },
          "paper_bgcolor": "white",
          "plot_bgcolor": "#E5ECF6",
          "polar": {
           "angularaxis": {
            "gridcolor": "white",
            "linecolor": "white",
            "ticks": ""
           },
           "bgcolor": "#E5ECF6",
           "radialaxis": {
            "gridcolor": "white",
            "linecolor": "white",
            "ticks": ""
           }
          },
          "scene": {
           "xaxis": {
            "backgroundcolor": "#E5ECF6",
            "gridcolor": "white",
            "gridwidth": 2,
            "linecolor": "white",
            "showbackground": true,
            "ticks": "",
            "zerolinecolor": "white"
           },
           "yaxis": {
            "backgroundcolor": "#E5ECF6",
            "gridcolor": "white",
            "gridwidth": 2,
            "linecolor": "white",
            "showbackground": true,
            "ticks": "",
            "zerolinecolor": "white"
           },
           "zaxis": {
            "backgroundcolor": "#E5ECF6",
            "gridcolor": "white",
            "gridwidth": 2,
            "linecolor": "white",
            "showbackground": true,
            "ticks": "",
            "zerolinecolor": "white"
           }
          },
          "shapedefaults": {
           "line": {
            "color": "#2a3f5f"
           }
          },
          "ternary": {
           "aaxis": {
            "gridcolor": "white",
            "linecolor": "white",
            "ticks": ""
           },
           "baxis": {
            "gridcolor": "white",
            "linecolor": "white",
            "ticks": ""
           },
           "bgcolor": "#E5ECF6",
           "caxis": {
            "gridcolor": "white",
            "linecolor": "white",
            "ticks": ""
           }
          },
          "title": {
           "x": 0.05
          },
          "xaxis": {
           "automargin": true,
           "gridcolor": "white",
           "linecolor": "white",
           "ticks": "",
           "title": {
            "standoff": 15
           },
           "zerolinecolor": "white",
           "zerolinewidth": 2
          },
          "yaxis": {
           "automargin": true,
           "gridcolor": "white",
           "linecolor": "white",
           "ticks": "",
           "title": {
            "standoff": 15
           },
           "zerolinecolor": "white",
           "zerolinewidth": 2
          }
         }
        },
        "title": {
         "text": "Elapsed Time"
        },
        "xaxis": {
         "anchor": "y",
         "domain": [
          0,
          1
         ],
         "title": {
          "text": "case"
         }
        },
        "yaxis": {
         "anchor": "x",
         "domain": [
          0,
          1
         ],
         "title": {
          "text": "ELAPSED_TIME_ORTools"
         }
        }
       }
      },
      "text/html": [
       "<div>                            <div id=\"d2e218cc-9dd0-46a2-9ff4-5637ba825230\" class=\"plotly-graph-div\" style=\"height:525px; width:100%;\"></div>            <script type=\"text/javascript\">                require([\"plotly\"], function(Plotly) {                    window.PLOTLYENV=window.PLOTLYENV || {};                                    if (document.getElementById(\"d2e218cc-9dd0-46a2-9ff4-5637ba825230\")) {                    Plotly.newPlot(                        \"d2e218cc-9dd0-46a2-9ff4-5637ba825230\",                        [{\"alignmentgroup\":\"True\",\"hovertemplate\":\"case=%{x}<br>ELAPSED_TIME_ORTools=%{y}<extra></extra>\",\"legendgroup\":\"\",\"marker\":{\"color\":\"#636efa\",\"pattern\":{\"shape\":\"\"}},\"name\":\"\",\"offsetgroup\":\"\",\"orientation\":\"v\",\"showlegend\":false,\"textposition\":\"auto\",\"x\":[\"c101\",\"c102\",\"c103\",\"c104\",\"c105\",\"c106\",\"c107\",\"c108\",\"c109\",\"c201\",\"c202\",\"c203\",\"c204\",\"c205\",\"c206\",\"c207\",\"c208\",\"r101\",\"r102\",\"r103\",\"r104\",\"r105\",\"r106\",\"r107\",\"r108\",\"r109\",\"r110\",\"r111\",\"r112\",\"r201\",\"r202\",\"r203\",\"r204\",\"r205\",\"r206\",\"r207\",\"r208\",\"r209\",\"r210\",\"r211\",\"rc101\",\"rc102\",\"rc103\",\"rc104\",\"rc105\",\"rc106\",\"rc107\",\"rc108\",\"rc201\",\"rc202\",\"rc203\",\"rc204\",\"rc205\",\"rc206\",\"rc207\",\"rc208\"],\"xaxis\":\"x\",\"y\":[0.449310302734375,0.8822839260101318,0.7476484775543213,0.8985803127288818,0.5423879623413086,0.466306209564209,0.6618640422821045,0.7126672267913818,0.8801345825195312,0.5879108905792236,0.7261133193969727,1.1400938034057615,1.2946414947509766,0.9032647609710692,0.7589690685272217,0.7742679119110107,0.6753098964691162,1.0627129077911377,0.6947939395904541,0.6128525733947754,1.190429449081421,0.7515599727630615,0.7740139961242676,0.8337094783782959,1.3781874179840088,0.8165862560272217,0.7146005630493164,1.2819585800170898,1.0185320377349854,0.8171138763427734,1.1451196670532229,0.9883012771606444,0.7646303176879883,1.2114019393920898,0.8768513202667236,0.8271756172180176,0.6765191555023193,1.0081489086151123,0.9982516765594482,1.2191073894500732,0.7320868968963623,1.0054235458374023,1.0701754093170166,1.4339017868041992,0.9296307563781738,0.7900748252868652,0.9911389350891112,1.0788259506225586,0.7742950916290283,0.7876675128936768,0.992912769317627,0.7486941814422607,1.3413057327270508,0.9741380214691162,1.1885435581207275,0.9982030391693116],\"yaxis\":\"y\",\"type\":\"bar\"}],                        {\"template\":{\"data\":{\"histogram2dcontour\":[{\"type\":\"histogram2dcontour\",\"colorbar\":{\"outlinewidth\":0,\"ticks\":\"\"},\"colorscale\":[[0.0,\"#0d0887\"],[0.1111111111111111,\"#46039f\"],[0.2222222222222222,\"#7201a8\"],[0.3333333333333333,\"#9c179e\"],[0.4444444444444444,\"#bd3786\"],[0.5555555555555556,\"#d8576b\"],[0.6666666666666666,\"#ed7953\"],[0.7777777777777778,\"#fb9f3a\"],[0.8888888888888888,\"#fdca26\"],[1.0,\"#f0f921\"]]}],\"choropleth\":[{\"type\":\"choropleth\",\"colorbar\":{\"outlinewidth\":0,\"ticks\":\"\"}}],\"histogram2d\":[{\"type\":\"histogram2d\",\"colorbar\":{\"outlinewidth\":0,\"ticks\":\"\"},\"colorscale\":[[0.0,\"#0d0887\"],[0.1111111111111111,\"#46039f\"],[0.2222222222222222,\"#7201a8\"],[0.3333333333333333,\"#9c179e\"],[0.4444444444444444,\"#bd3786\"],[0.5555555555555556,\"#d8576b\"],[0.6666666666666666,\"#ed7953\"],[0.7777777777777778,\"#fb9f3a\"],[0.8888888888888888,\"#fdca26\"],[1.0,\"#f0f921\"]]}],\"heatmap\":[{\"type\":\"heatmap\",\"colorbar\":{\"outlinewidth\":0,\"ticks\":\"\"},\"colorscale\":[[0.0,\"#0d0887\"],[0.1111111111111111,\"#46039f\"],[0.2222222222222222,\"#7201a8\"],[0.3333333333333333,\"#9c179e\"],[0.4444444444444444,\"#bd3786\"],[0.5555555555555556,\"#d8576b\"],[0.6666666666666666,\"#ed7953\"],[0.7777777777777778,\"#fb9f3a\"],[0.8888888888888888,\"#fdca26\"],[1.0,\"#f0f921\"]]}],\"heatmapgl\":[{\"type\":\"heatmapgl\",\"colorbar\":{\"outlinewidth\":0,\"ticks\":\"\"},\"colorscale\":[[0.0,\"#0d0887\"],[0.1111111111111111,\"#46039f\"],[0.2222222222222222,\"#7201a8\"],[0.3333333333333333,\"#9c179e\"],[0.4444444444444444,\"#bd3786\"],[0.5555555555555556,\"#d8576b\"],[0.6666666666666666,\"#ed7953\"],[0.7777777777777778,\"#fb9f3a\"],[0.8888888888888888,\"#fdca26\"],[1.0,\"#f0f921\"]]}],\"contourcarpet\":[{\"type\":\"contourcarpet\",\"colorbar\":{\"outlinewidth\":0,\"ticks\":\"\"}}],\"contour\":[{\"type\":\"contour\",\"colorbar\":{\"outlinewidth\":0,\"ticks\":\"\"},\"colorscale\":[[0.0,\"#0d0887\"],[0.1111111111111111,\"#46039f\"],[0.2222222222222222,\"#7201a8\"],[0.3333333333333333,\"#9c179e\"],[0.4444444444444444,\"#bd3786\"],[0.5555555555555556,\"#d8576b\"],[0.6666666666666666,\"#ed7953\"],[0.7777777777777778,\"#fb9f3a\"],[0.8888888888888888,\"#fdca26\"],[1.0,\"#f0f921\"]]}],\"surface\":[{\"type\":\"surface\",\"colorbar\":{\"outlinewidth\":0,\"ticks\":\"\"},\"colorscale\":[[0.0,\"#0d0887\"],[0.1111111111111111,\"#46039f\"],[0.2222222222222222,\"#7201a8\"],[0.3333333333333333,\"#9c179e\"],[0.4444444444444444,\"#bd3786\"],[0.5555555555555556,\"#d8576b\"],[0.6666666666666666,\"#ed7953\"],[0.7777777777777778,\"#fb9f3a\"],[0.8888888888888888,\"#fdca26\"],[1.0,\"#f0f921\"]]}],\"mesh3d\":[{\"type\":\"mesh3d\",\"colorbar\":{\"outlinewidth\":0,\"ticks\":\"\"}}],\"scatter\":[{\"fillpattern\":{\"fillmode\":\"overlay\",\"size\":10,\"solidity\":0.2},\"type\":\"scatter\"}],\"parcoords\":[{\"type\":\"parcoords\",\"line\":{\"colorbar\":{\"outlinewidth\":0,\"ticks\":\"\"}}}],\"scatterpolargl\":[{\"type\":\"scatterpolargl\",\"marker\":{\"colorbar\":{\"outlinewidth\":0,\"ticks\":\"\"}}}],\"bar\":[{\"error_x\":{\"color\":\"#2a3f5f\"},\"error_y\":{\"color\":\"#2a3f5f\"},\"marker\":{\"line\":{\"color\":\"#E5ECF6\",\"width\":0.5},\"pattern\":{\"fillmode\":\"overlay\",\"size\":10,\"solidity\":0.2}},\"type\":\"bar\"}],\"scattergeo\":[{\"type\":\"scattergeo\",\"marker\":{\"colorbar\":{\"outlinewidth\":0,\"ticks\":\"\"}}}],\"scatterpolar\":[{\"type\":\"scatterpolar\",\"marker\":{\"colorbar\":{\"outlinewidth\":0,\"ticks\":\"\"}}}],\"histogram\":[{\"marker\":{\"pattern\":{\"fillmode\":\"overlay\",\"size\":10,\"solidity\":0.2}},\"type\":\"histogram\"}],\"scattergl\":[{\"type\":\"scattergl\",\"marker\":{\"colorbar\":{\"outlinewidth\":0,\"ticks\":\"\"}}}],\"scatter3d\":[{\"type\":\"scatter3d\",\"line\":{\"colorbar\":{\"outlinewidth\":0,\"ticks\":\"\"}},\"marker\":{\"colorbar\":{\"outlinewidth\":0,\"ticks\":\"\"}}}],\"scattermapbox\":[{\"type\":\"scattermapbox\",\"marker\":{\"colorbar\":{\"outlinewidth\":0,\"ticks\":\"\"}}}],\"scatterternary\":[{\"type\":\"scatterternary\",\"marker\":{\"colorbar\":{\"outlinewidth\":0,\"ticks\":\"\"}}}],\"scattercarpet\":[{\"type\":\"scattercarpet\",\"marker\":{\"colorbar\":{\"outlinewidth\":0,\"ticks\":\"\"}}}],\"carpet\":[{\"aaxis\":{\"endlinecolor\":\"#2a3f5f\",\"gridcolor\":\"white\",\"linecolor\":\"white\",\"minorgridcolor\":\"white\",\"startlinecolor\":\"#2a3f5f\"},\"baxis\":{\"endlinecolor\":\"#2a3f5f\",\"gridcolor\":\"white\",\"linecolor\":\"white\",\"minorgridcolor\":\"white\",\"startlinecolor\":\"#2a3f5f\"},\"type\":\"carpet\"}],\"table\":[{\"cells\":{\"fill\":{\"color\":\"#EBF0F8\"},\"line\":{\"color\":\"white\"}},\"header\":{\"fill\":{\"color\":\"#C8D4E3\"},\"line\":{\"color\":\"white\"}},\"type\":\"table\"}],\"barpolar\":[{\"marker\":{\"line\":{\"color\":\"#E5ECF6\",\"width\":0.5},\"pattern\":{\"fillmode\":\"overlay\",\"size\":10,\"solidity\":0.2}},\"type\":\"barpolar\"}],\"pie\":[{\"automargin\":true,\"type\":\"pie\"}]},\"layout\":{\"autotypenumbers\":\"strict\",\"colorway\":[\"#636efa\",\"#EF553B\",\"#00cc96\",\"#ab63fa\",\"#FFA15A\",\"#19d3f3\",\"#FF6692\",\"#B6E880\",\"#FF97FF\",\"#FECB52\"],\"font\":{\"color\":\"#2a3f5f\"},\"hovermode\":\"closest\",\"hoverlabel\":{\"align\":\"left\"},\"paper_bgcolor\":\"white\",\"plot_bgcolor\":\"#E5ECF6\",\"polar\":{\"bgcolor\":\"#E5ECF6\",\"angularaxis\":{\"gridcolor\":\"white\",\"linecolor\":\"white\",\"ticks\":\"\"},\"radialaxis\":{\"gridcolor\":\"white\",\"linecolor\":\"white\",\"ticks\":\"\"}},\"ternary\":{\"bgcolor\":\"#E5ECF6\",\"aaxis\":{\"gridcolor\":\"white\",\"linecolor\":\"white\",\"ticks\":\"\"},\"baxis\":{\"gridcolor\":\"white\",\"linecolor\":\"white\",\"ticks\":\"\"},\"caxis\":{\"gridcolor\":\"white\",\"linecolor\":\"white\",\"ticks\":\"\"}},\"coloraxis\":{\"colorbar\":{\"outlinewidth\":0,\"ticks\":\"\"}},\"colorscale\":{\"sequential\":[[0.0,\"#0d0887\"],[0.1111111111111111,\"#46039f\"],[0.2222222222222222,\"#7201a8\"],[0.3333333333333333,\"#9c179e\"],[0.4444444444444444,\"#bd3786\"],[0.5555555555555556,\"#d8576b\"],[0.6666666666666666,\"#ed7953\"],[0.7777777777777778,\"#fb9f3a\"],[0.8888888888888888,\"#fdca26\"],[1.0,\"#f0f921\"]],\"sequentialminus\":[[0.0,\"#0d0887\"],[0.1111111111111111,\"#46039f\"],[0.2222222222222222,\"#7201a8\"],[0.3333333333333333,\"#9c179e\"],[0.4444444444444444,\"#bd3786\"],[0.5555555555555556,\"#d8576b\"],[0.6666666666666666,\"#ed7953\"],[0.7777777777777778,\"#fb9f3a\"],[0.8888888888888888,\"#fdca26\"],[1.0,\"#f0f921\"]],\"diverging\":[[0,\"#8e0152\"],[0.1,\"#c51b7d\"],[0.2,\"#de77ae\"],[0.3,\"#f1b6da\"],[0.4,\"#fde0ef\"],[0.5,\"#f7f7f7\"],[0.6,\"#e6f5d0\"],[0.7,\"#b8e186\"],[0.8,\"#7fbc41\"],[0.9,\"#4d9221\"],[1,\"#276419\"]]},\"xaxis\":{\"gridcolor\":\"white\",\"linecolor\":\"white\",\"ticks\":\"\",\"title\":{\"standoff\":15},\"zerolinecolor\":\"white\",\"automargin\":true,\"zerolinewidth\":2},\"yaxis\":{\"gridcolor\":\"white\",\"linecolor\":\"white\",\"ticks\":\"\",\"title\":{\"standoff\":15},\"zerolinecolor\":\"white\",\"automargin\":true,\"zerolinewidth\":2},\"scene\":{\"xaxis\":{\"backgroundcolor\":\"#E5ECF6\",\"gridcolor\":\"white\",\"linecolor\":\"white\",\"showbackground\":true,\"ticks\":\"\",\"zerolinecolor\":\"white\",\"gridwidth\":2},\"yaxis\":{\"backgroundcolor\":\"#E5ECF6\",\"gridcolor\":\"white\",\"linecolor\":\"white\",\"showbackground\":true,\"ticks\":\"\",\"zerolinecolor\":\"white\",\"gridwidth\":2},\"zaxis\":{\"backgroundcolor\":\"#E5ECF6\",\"gridcolor\":\"white\",\"linecolor\":\"white\",\"showbackground\":true,\"ticks\":\"\",\"zerolinecolor\":\"white\",\"gridwidth\":2}},\"shapedefaults\":{\"line\":{\"color\":\"#2a3f5f\"}},\"annotationdefaults\":{\"arrowcolor\":\"#2a3f5f\",\"arrowhead\":0,\"arrowwidth\":1},\"geo\":{\"bgcolor\":\"white\",\"landcolor\":\"#E5ECF6\",\"subunitcolor\":\"white\",\"showland\":true,\"showlakes\":true,\"lakecolor\":\"white\"},\"title\":{\"x\":0.05},\"mapbox\":{\"style\":\"light\"}}},\"xaxis\":{\"anchor\":\"y\",\"domain\":[0.0,1.0],\"title\":{\"text\":\"case\"}},\"yaxis\":{\"anchor\":\"x\",\"domain\":[0.0,1.0],\"title\":{\"text\":\"ELAPSED_TIME_ORTools\"}},\"legend\":{\"tracegroupgap\":0},\"title\":{\"text\":\"Elapsed Time\"},\"barmode\":\"relative\"},                        {\"responsive\": true}                    ).then(function(){\n",
       "                            \n",
       "var gd = document.getElementById('d2e218cc-9dd0-46a2-9ff4-5637ba825230');\n",
       "var x = new MutationObserver(function (mutations, observer) {{\n",
       "        var display = window.getComputedStyle(gd).display;\n",
       "        if (!display || display === 'none') {{\n",
       "            console.log([gd, 'removed!']);\n",
       "            Plotly.purge(gd);\n",
       "            observer.disconnect();\n",
       "        }}\n",
       "}});\n",
       "\n",
       "// Listen for the removal of the full notebook cells\n",
       "var notebookContainer = gd.closest('#notebook-container');\n",
       "if (notebookContainer) {{\n",
       "    x.observe(notebookContainer, {childList: true});\n",
       "}}\n",
       "\n",
       "// Listen for the clearing of the current output cell\n",
       "var outputEl = gd.closest('.output');\n",
       "if (outputEl) {{\n",
       "    x.observe(outputEl, {childList: true});\n",
       "}}\n",
       "\n",
       "                        })                };                });            </script>        </div>"
      ]
     },
     "metadata": {},
     "output_type": "display_data"
    }
   ],
   "source": [
    "# 棒グラフ作成\n",
    "fig = px.bar(temp_df, x='case', y='ELAPSED_TIME_ORTools', title='Elapsed Time')\n",
    "\n",
    "fig.show()"
   ]
  },
  {
   "cell_type": "code",
   "execution_count": 21,
   "metadata": {},
   "outputs": [
    {
     "data": {
      "application/vnd.plotly.v1+json": {
       "config": {
        "plotlyServerURL": "https://plot.ly"
       },
       "data": [
        {
         "alignmentgroup": "True",
         "hovertemplate": "variable=CONSTRUCTION_TIME_CARG<br>case=%{x}<br>value=%{y}<extra></extra>",
         "legendgroup": "CONSTRUCTION_TIME_CARG",
         "marker": {
          "color": "#636efa",
          "pattern": {
           "shape": ""
          }
         },
         "name": "CONSTRUCTION_TIME_CARG",
         "offsetgroup": "CONSTRUCTION_TIME_CARG",
         "orientation": "v",
         "showlegend": true,
         "textposition": "auto",
         "type": "bar",
         "x": [
          "c101",
          "c102",
          "c103",
          "c104",
          "c105",
          "c106",
          "c107",
          "c108",
          "c109",
          "c201",
          "c202",
          "c203",
          "c204",
          "c205",
          "c206",
          "c207",
          "c208",
          "r101",
          "r102",
          "r103",
          "r104",
          "r105",
          "r106",
          "r107",
          "r108",
          "r109",
          "r110",
          "r111",
          "r112",
          "r201",
          "r202",
          "r203",
          "r204",
          "r205",
          "r206",
          "r207",
          "r208",
          "r209",
          "r210",
          "r211",
          "rc101",
          "rc102",
          "rc103",
          "rc104",
          "rc105",
          "rc106",
          "rc107",
          "rc108",
          "rc201",
          "rc202",
          "rc203",
          "rc204",
          "rc205",
          "rc206",
          "rc207",
          "rc208"
         ],
         "xaxis": "x",
         "y": [
          1.4,
          1.8,
          1.9,
          2,
          1.6,
          3.2,
          2.3,
          2.5,
          3.5,
          2.1,
          3.3,
          2.4,
          2.4,
          2.2,
          1.9,
          2.2,
          2,
          1.4,
          1.6,
          1.8,
          1.9,
          1.6,
          1.9,
          1.9,
          2,
          1.9,
          2,
          1.9,
          1.8,
          2.1,
          2.3,
          2.6,
          3.5,
          2.1,
          2.7,
          2.9,
          2.8,
          2.5,
          2.6,
          3,
          1.5,
          2,
          1.7,
          1.8,
          1.9,
          1.8,
          1.9,
          1.7,
          2,
          2.2,
          2.4,
          2.8,
          2.2,
          2.3,
          2.2,
          2.5
         ],
         "yaxis": "y"
        },
        {
         "alignmentgroup": "True",
         "hovertemplate": "variable=IMPROVEMENT_TIME_CARG<br>case=%{x}<br>value=%{y}<extra></extra>",
         "legendgroup": "IMPROVEMENT_TIME_CARG",
         "marker": {
          "color": "#EF553B",
          "pattern": {
           "shape": ""
          }
         },
         "name": "IMPROVEMENT_TIME_CARG",
         "offsetgroup": "IMPROVEMENT_TIME_CARG",
         "orientation": "v",
         "showlegend": true,
         "textposition": "auto",
         "type": "bar",
         "x": [
          "c101",
          "c102",
          "c103",
          "c104",
          "c105",
          "c106",
          "c107",
          "c108",
          "c109",
          "c201",
          "c202",
          "c203",
          "c204",
          "c205",
          "c206",
          "c207",
          "c208",
          "r101",
          "r102",
          "r103",
          "r104",
          "r105",
          "r106",
          "r107",
          "r108",
          "r109",
          "r110",
          "r111",
          "r112",
          "r201",
          "r202",
          "r203",
          "r204",
          "r205",
          "r206",
          "r207",
          "r208",
          "r209",
          "r210",
          "r211",
          "rc101",
          "rc102",
          "rc103",
          "rc104",
          "rc105",
          "rc106",
          "rc107",
          "rc108",
          "rc201",
          "rc202",
          "rc203",
          "rc204",
          "rc205",
          "rc206",
          "rc207",
          "rc208"
         ],
         "xaxis": "x",
         "y": [
          11.1,
          33.6,
          21.5,
          30.9,
          19,
          31,
          24.4,
          31.6,
          37.2,
          70.7,
          129.9,
          156.4,
          294.2,
          179.8,
          265.8,
          202.7,
          170.8,
          18,
          29,
          37.3,
          49.8,
          28.5,
          34.3,
          48,
          55.2,
          40,
          33.8,
          45,
          43,
          135.9,
          203.9,
          271.4,
          345.2,
          238.2,
          210.4,
          311,
          370.9,
          187.7,
          249.8,
          333.6,
          26.1,
          35.9,
          55.1,
          28.1,
          34.9,
          22,
          41.7,
          33.4,
          106.5,
          122.3,
          149.6,
          170.1,
          116.7,
          117,
          199.2,
          338
         ],
         "yaxis": "y"
        }
       ],
       "layout": {
        "barmode": "relative",
        "legend": {
         "title": {
          "text": "variable"
         },
         "tracegroupgap": 0
        },
        "template": {
         "data": {
          "bar": [
           {
            "error_x": {
             "color": "#2a3f5f"
            },
            "error_y": {
             "color": "#2a3f5f"
            },
            "marker": {
             "line": {
              "color": "#E5ECF6",
              "width": 0.5
             },
             "pattern": {
              "fillmode": "overlay",
              "size": 10,
              "solidity": 0.2
             }
            },
            "type": "bar"
           }
          ],
          "barpolar": [
           {
            "marker": {
             "line": {
              "color": "#E5ECF6",
              "width": 0.5
             },
             "pattern": {
              "fillmode": "overlay",
              "size": 10,
              "solidity": 0.2
             }
            },
            "type": "barpolar"
           }
          ],
          "carpet": [
           {
            "aaxis": {
             "endlinecolor": "#2a3f5f",
             "gridcolor": "white",
             "linecolor": "white",
             "minorgridcolor": "white",
             "startlinecolor": "#2a3f5f"
            },
            "baxis": {
             "endlinecolor": "#2a3f5f",
             "gridcolor": "white",
             "linecolor": "white",
             "minorgridcolor": "white",
             "startlinecolor": "#2a3f5f"
            },
            "type": "carpet"
           }
          ],
          "choropleth": [
           {
            "colorbar": {
             "outlinewidth": 0,
             "ticks": ""
            },
            "type": "choropleth"
           }
          ],
          "contour": [
           {
            "colorbar": {
             "outlinewidth": 0,
             "ticks": ""
            },
            "colorscale": [
             [
              0,
              "#0d0887"
             ],
             [
              0.1111111111111111,
              "#46039f"
             ],
             [
              0.2222222222222222,
              "#7201a8"
             ],
             [
              0.3333333333333333,
              "#9c179e"
             ],
             [
              0.4444444444444444,
              "#bd3786"
             ],
             [
              0.5555555555555556,
              "#d8576b"
             ],
             [
              0.6666666666666666,
              "#ed7953"
             ],
             [
              0.7777777777777778,
              "#fb9f3a"
             ],
             [
              0.8888888888888888,
              "#fdca26"
             ],
             [
              1,
              "#f0f921"
             ]
            ],
            "type": "contour"
           }
          ],
          "contourcarpet": [
           {
            "colorbar": {
             "outlinewidth": 0,
             "ticks": ""
            },
            "type": "contourcarpet"
           }
          ],
          "heatmap": [
           {
            "colorbar": {
             "outlinewidth": 0,
             "ticks": ""
            },
            "colorscale": [
             [
              0,
              "#0d0887"
             ],
             [
              0.1111111111111111,
              "#46039f"
             ],
             [
              0.2222222222222222,
              "#7201a8"
             ],
             [
              0.3333333333333333,
              "#9c179e"
             ],
             [
              0.4444444444444444,
              "#bd3786"
             ],
             [
              0.5555555555555556,
              "#d8576b"
             ],
             [
              0.6666666666666666,
              "#ed7953"
             ],
             [
              0.7777777777777778,
              "#fb9f3a"
             ],
             [
              0.8888888888888888,
              "#fdca26"
             ],
             [
              1,
              "#f0f921"
             ]
            ],
            "type": "heatmap"
           }
          ],
          "heatmapgl": [
           {
            "colorbar": {
             "outlinewidth": 0,
             "ticks": ""
            },
            "colorscale": [
             [
              0,
              "#0d0887"
             ],
             [
              0.1111111111111111,
              "#46039f"
             ],
             [
              0.2222222222222222,
              "#7201a8"
             ],
             [
              0.3333333333333333,
              "#9c179e"
             ],
             [
              0.4444444444444444,
              "#bd3786"
             ],
             [
              0.5555555555555556,
              "#d8576b"
             ],
             [
              0.6666666666666666,
              "#ed7953"
             ],
             [
              0.7777777777777778,
              "#fb9f3a"
             ],
             [
              0.8888888888888888,
              "#fdca26"
             ],
             [
              1,
              "#f0f921"
             ]
            ],
            "type": "heatmapgl"
           }
          ],
          "histogram": [
           {
            "marker": {
             "pattern": {
              "fillmode": "overlay",
              "size": 10,
              "solidity": 0.2
             }
            },
            "type": "histogram"
           }
          ],
          "histogram2d": [
           {
            "colorbar": {
             "outlinewidth": 0,
             "ticks": ""
            },
            "colorscale": [
             [
              0,
              "#0d0887"
             ],
             [
              0.1111111111111111,
              "#46039f"
             ],
             [
              0.2222222222222222,
              "#7201a8"
             ],
             [
              0.3333333333333333,
              "#9c179e"
             ],
             [
              0.4444444444444444,
              "#bd3786"
             ],
             [
              0.5555555555555556,
              "#d8576b"
             ],
             [
              0.6666666666666666,
              "#ed7953"
             ],
             [
              0.7777777777777778,
              "#fb9f3a"
             ],
             [
              0.8888888888888888,
              "#fdca26"
             ],
             [
              1,
              "#f0f921"
             ]
            ],
            "type": "histogram2d"
           }
          ],
          "histogram2dcontour": [
           {
            "colorbar": {
             "outlinewidth": 0,
             "ticks": ""
            },
            "colorscale": [
             [
              0,
              "#0d0887"
             ],
             [
              0.1111111111111111,
              "#46039f"
             ],
             [
              0.2222222222222222,
              "#7201a8"
             ],
             [
              0.3333333333333333,
              "#9c179e"
             ],
             [
              0.4444444444444444,
              "#bd3786"
             ],
             [
              0.5555555555555556,
              "#d8576b"
             ],
             [
              0.6666666666666666,
              "#ed7953"
             ],
             [
              0.7777777777777778,
              "#fb9f3a"
             ],
             [
              0.8888888888888888,
              "#fdca26"
             ],
             [
              1,
              "#f0f921"
             ]
            ],
            "type": "histogram2dcontour"
           }
          ],
          "mesh3d": [
           {
            "colorbar": {
             "outlinewidth": 0,
             "ticks": ""
            },
            "type": "mesh3d"
           }
          ],
          "parcoords": [
           {
            "line": {
             "colorbar": {
              "outlinewidth": 0,
              "ticks": ""
             }
            },
            "type": "parcoords"
           }
          ],
          "pie": [
           {
            "automargin": true,
            "type": "pie"
           }
          ],
          "scatter": [
           {
            "fillpattern": {
             "fillmode": "overlay",
             "size": 10,
             "solidity": 0.2
            },
            "type": "scatter"
           }
          ],
          "scatter3d": [
           {
            "line": {
             "colorbar": {
              "outlinewidth": 0,
              "ticks": ""
             }
            },
            "marker": {
             "colorbar": {
              "outlinewidth": 0,
              "ticks": ""
             }
            },
            "type": "scatter3d"
           }
          ],
          "scattercarpet": [
           {
            "marker": {
             "colorbar": {
              "outlinewidth": 0,
              "ticks": ""
             }
            },
            "type": "scattercarpet"
           }
          ],
          "scattergeo": [
           {
            "marker": {
             "colorbar": {
              "outlinewidth": 0,
              "ticks": ""
             }
            },
            "type": "scattergeo"
           }
          ],
          "scattergl": [
           {
            "marker": {
             "colorbar": {
              "outlinewidth": 0,
              "ticks": ""
             }
            },
            "type": "scattergl"
           }
          ],
          "scattermapbox": [
           {
            "marker": {
             "colorbar": {
              "outlinewidth": 0,
              "ticks": ""
             }
            },
            "type": "scattermapbox"
           }
          ],
          "scatterpolar": [
           {
            "marker": {
             "colorbar": {
              "outlinewidth": 0,
              "ticks": ""
             }
            },
            "type": "scatterpolar"
           }
          ],
          "scatterpolargl": [
           {
            "marker": {
             "colorbar": {
              "outlinewidth": 0,
              "ticks": ""
             }
            },
            "type": "scatterpolargl"
           }
          ],
          "scatterternary": [
           {
            "marker": {
             "colorbar": {
              "outlinewidth": 0,
              "ticks": ""
             }
            },
            "type": "scatterternary"
           }
          ],
          "surface": [
           {
            "colorbar": {
             "outlinewidth": 0,
             "ticks": ""
            },
            "colorscale": [
             [
              0,
              "#0d0887"
             ],
             [
              0.1111111111111111,
              "#46039f"
             ],
             [
              0.2222222222222222,
              "#7201a8"
             ],
             [
              0.3333333333333333,
              "#9c179e"
             ],
             [
              0.4444444444444444,
              "#bd3786"
             ],
             [
              0.5555555555555556,
              "#d8576b"
             ],
             [
              0.6666666666666666,
              "#ed7953"
             ],
             [
              0.7777777777777778,
              "#fb9f3a"
             ],
             [
              0.8888888888888888,
              "#fdca26"
             ],
             [
              1,
              "#f0f921"
             ]
            ],
            "type": "surface"
           }
          ],
          "table": [
           {
            "cells": {
             "fill": {
              "color": "#EBF0F8"
             },
             "line": {
              "color": "white"
             }
            },
            "header": {
             "fill": {
              "color": "#C8D4E3"
             },
             "line": {
              "color": "white"
             }
            },
            "type": "table"
           }
          ]
         },
         "layout": {
          "annotationdefaults": {
           "arrowcolor": "#2a3f5f",
           "arrowhead": 0,
           "arrowwidth": 1
          },
          "autotypenumbers": "strict",
          "coloraxis": {
           "colorbar": {
            "outlinewidth": 0,
            "ticks": ""
           }
          },
          "colorscale": {
           "diverging": [
            [
             0,
             "#8e0152"
            ],
            [
             0.1,
             "#c51b7d"
            ],
            [
             0.2,
             "#de77ae"
            ],
            [
             0.3,
             "#f1b6da"
            ],
            [
             0.4,
             "#fde0ef"
            ],
            [
             0.5,
             "#f7f7f7"
            ],
            [
             0.6,
             "#e6f5d0"
            ],
            [
             0.7,
             "#b8e186"
            ],
            [
             0.8,
             "#7fbc41"
            ],
            [
             0.9,
             "#4d9221"
            ],
            [
             1,
             "#276419"
            ]
           ],
           "sequential": [
            [
             0,
             "#0d0887"
            ],
            [
             0.1111111111111111,
             "#46039f"
            ],
            [
             0.2222222222222222,
             "#7201a8"
            ],
            [
             0.3333333333333333,
             "#9c179e"
            ],
            [
             0.4444444444444444,
             "#bd3786"
            ],
            [
             0.5555555555555556,
             "#d8576b"
            ],
            [
             0.6666666666666666,
             "#ed7953"
            ],
            [
             0.7777777777777778,
             "#fb9f3a"
            ],
            [
             0.8888888888888888,
             "#fdca26"
            ],
            [
             1,
             "#f0f921"
            ]
           ],
           "sequentialminus": [
            [
             0,
             "#0d0887"
            ],
            [
             0.1111111111111111,
             "#46039f"
            ],
            [
             0.2222222222222222,
             "#7201a8"
            ],
            [
             0.3333333333333333,
             "#9c179e"
            ],
            [
             0.4444444444444444,
             "#bd3786"
            ],
            [
             0.5555555555555556,
             "#d8576b"
            ],
            [
             0.6666666666666666,
             "#ed7953"
            ],
            [
             0.7777777777777778,
             "#fb9f3a"
            ],
            [
             0.8888888888888888,
             "#fdca26"
            ],
            [
             1,
             "#f0f921"
            ]
           ]
          },
          "colorway": [
           "#636efa",
           "#EF553B",
           "#00cc96",
           "#ab63fa",
           "#FFA15A",
           "#19d3f3",
           "#FF6692",
           "#B6E880",
           "#FF97FF",
           "#FECB52"
          ],
          "font": {
           "color": "#2a3f5f"
          },
          "geo": {
           "bgcolor": "white",
           "lakecolor": "white",
           "landcolor": "#E5ECF6",
           "showlakes": true,
           "showland": true,
           "subunitcolor": "white"
          },
          "hoverlabel": {
           "align": "left"
          },
          "hovermode": "closest",
          "mapbox": {
           "style": "light"
          },
          "paper_bgcolor": "white",
          "plot_bgcolor": "#E5ECF6",
          "polar": {
           "angularaxis": {
            "gridcolor": "white",
            "linecolor": "white",
            "ticks": ""
           },
           "bgcolor": "#E5ECF6",
           "radialaxis": {
            "gridcolor": "white",
            "linecolor": "white",
            "ticks": ""
           }
          },
          "scene": {
           "xaxis": {
            "backgroundcolor": "#E5ECF6",
            "gridcolor": "white",
            "gridwidth": 2,
            "linecolor": "white",
            "showbackground": true,
            "ticks": "",
            "zerolinecolor": "white"
           },
           "yaxis": {
            "backgroundcolor": "#E5ECF6",
            "gridcolor": "white",
            "gridwidth": 2,
            "linecolor": "white",
            "showbackground": true,
            "ticks": "",
            "zerolinecolor": "white"
           },
           "zaxis": {
            "backgroundcolor": "#E5ECF6",
            "gridcolor": "white",
            "gridwidth": 2,
            "linecolor": "white",
            "showbackground": true,
            "ticks": "",
            "zerolinecolor": "white"
           }
          },
          "shapedefaults": {
           "line": {
            "color": "#2a3f5f"
           }
          },
          "ternary": {
           "aaxis": {
            "gridcolor": "white",
            "linecolor": "white",
            "ticks": ""
           },
           "baxis": {
            "gridcolor": "white",
            "linecolor": "white",
            "ticks": ""
           },
           "bgcolor": "#E5ECF6",
           "caxis": {
            "gridcolor": "white",
            "linecolor": "white",
            "ticks": ""
           }
          },
          "title": {
           "x": 0.05
          },
          "xaxis": {
           "automargin": true,
           "gridcolor": "white",
           "linecolor": "white",
           "ticks": "",
           "title": {
            "standoff": 15
           },
           "zerolinecolor": "white",
           "zerolinewidth": 2
          },
          "yaxis": {
           "automargin": true,
           "gridcolor": "white",
           "linecolor": "white",
           "ticks": "",
           "title": {
            "standoff": 15
           },
           "zerolinecolor": "white",
           "zerolinewidth": 2
          }
         }
        },
        "title": {
         "text": "Stacked Bar Chart"
        },
        "xaxis": {
         "anchor": "y",
         "domain": [
          0,
          1
         ],
         "title": {
          "text": "case"
         }
        },
        "yaxis": {
         "anchor": "x",
         "domain": [
          0,
          1
         ],
         "title": {
          "text": "value"
         }
        }
       }
      },
      "text/html": [
       "<div>                            <div id=\"3528810b-58ae-4689-8125-45a8f9c09469\" class=\"plotly-graph-div\" style=\"height:525px; width:100%;\"></div>            <script type=\"text/javascript\">                require([\"plotly\"], function(Plotly) {                    window.PLOTLYENV=window.PLOTLYENV || {};                                    if (document.getElementById(\"3528810b-58ae-4689-8125-45a8f9c09469\")) {                    Plotly.newPlot(                        \"3528810b-58ae-4689-8125-45a8f9c09469\",                        [{\"alignmentgroup\":\"True\",\"hovertemplate\":\"variable=CONSTRUCTION_TIME_CARG<br>case=%{x}<br>value=%{y}<extra></extra>\",\"legendgroup\":\"CONSTRUCTION_TIME_CARG\",\"marker\":{\"color\":\"#636efa\",\"pattern\":{\"shape\":\"\"}},\"name\":\"CONSTRUCTION_TIME_CARG\",\"offsetgroup\":\"CONSTRUCTION_TIME_CARG\",\"orientation\":\"v\",\"showlegend\":true,\"textposition\":\"auto\",\"x\":[\"c101\",\"c102\",\"c103\",\"c104\",\"c105\",\"c106\",\"c107\",\"c108\",\"c109\",\"c201\",\"c202\",\"c203\",\"c204\",\"c205\",\"c206\",\"c207\",\"c208\",\"r101\",\"r102\",\"r103\",\"r104\",\"r105\",\"r106\",\"r107\",\"r108\",\"r109\",\"r110\",\"r111\",\"r112\",\"r201\",\"r202\",\"r203\",\"r204\",\"r205\",\"r206\",\"r207\",\"r208\",\"r209\",\"r210\",\"r211\",\"rc101\",\"rc102\",\"rc103\",\"rc104\",\"rc105\",\"rc106\",\"rc107\",\"rc108\",\"rc201\",\"rc202\",\"rc203\",\"rc204\",\"rc205\",\"rc206\",\"rc207\",\"rc208\"],\"xaxis\":\"x\",\"y\":[1.4,1.8,1.9,2.0,1.6,3.2,2.3,2.5,3.5,2.1,3.3,2.4,2.4,2.2,1.9,2.2,2.0,1.4,1.6,1.8,1.9,1.6,1.9,1.9,2.0,1.9,2.0,1.9,1.8,2.1,2.3,2.6,3.5,2.1,2.7,2.9,2.8,2.5,2.6,3.0,1.5,2.0,1.7,1.8,1.9,1.8,1.9,1.7,2.0,2.2,2.4,2.8,2.2,2.3,2.2,2.5],\"yaxis\":\"y\",\"type\":\"bar\"},{\"alignmentgroup\":\"True\",\"hovertemplate\":\"variable=IMPROVEMENT_TIME_CARG<br>case=%{x}<br>value=%{y}<extra></extra>\",\"legendgroup\":\"IMPROVEMENT_TIME_CARG\",\"marker\":{\"color\":\"#EF553B\",\"pattern\":{\"shape\":\"\"}},\"name\":\"IMPROVEMENT_TIME_CARG\",\"offsetgroup\":\"IMPROVEMENT_TIME_CARG\",\"orientation\":\"v\",\"showlegend\":true,\"textposition\":\"auto\",\"x\":[\"c101\",\"c102\",\"c103\",\"c104\",\"c105\",\"c106\",\"c107\",\"c108\",\"c109\",\"c201\",\"c202\",\"c203\",\"c204\",\"c205\",\"c206\",\"c207\",\"c208\",\"r101\",\"r102\",\"r103\",\"r104\",\"r105\",\"r106\",\"r107\",\"r108\",\"r109\",\"r110\",\"r111\",\"r112\",\"r201\",\"r202\",\"r203\",\"r204\",\"r205\",\"r206\",\"r207\",\"r208\",\"r209\",\"r210\",\"r211\",\"rc101\",\"rc102\",\"rc103\",\"rc104\",\"rc105\",\"rc106\",\"rc107\",\"rc108\",\"rc201\",\"rc202\",\"rc203\",\"rc204\",\"rc205\",\"rc206\",\"rc207\",\"rc208\"],\"xaxis\":\"x\",\"y\":[11.1,33.6,21.5,30.9,19.0,31.0,24.4,31.6,37.2,70.7,129.9,156.4,294.2,179.8,265.8,202.7,170.8,18.0,29.0,37.3,49.8,28.5,34.3,48.0,55.2,40.0,33.8,45.0,43.0,135.9,203.9,271.4,345.2,238.2,210.4,311.0,370.9,187.7,249.8,333.6,26.1,35.9,55.1,28.1,34.9,22.0,41.7,33.4,106.5,122.3,149.6,170.1,116.7,117.0,199.2,338.0],\"yaxis\":\"y\",\"type\":\"bar\"}],                        {\"template\":{\"data\":{\"histogram2dcontour\":[{\"type\":\"histogram2dcontour\",\"colorbar\":{\"outlinewidth\":0,\"ticks\":\"\"},\"colorscale\":[[0.0,\"#0d0887\"],[0.1111111111111111,\"#46039f\"],[0.2222222222222222,\"#7201a8\"],[0.3333333333333333,\"#9c179e\"],[0.4444444444444444,\"#bd3786\"],[0.5555555555555556,\"#d8576b\"],[0.6666666666666666,\"#ed7953\"],[0.7777777777777778,\"#fb9f3a\"],[0.8888888888888888,\"#fdca26\"],[1.0,\"#f0f921\"]]}],\"choropleth\":[{\"type\":\"choropleth\",\"colorbar\":{\"outlinewidth\":0,\"ticks\":\"\"}}],\"histogram2d\":[{\"type\":\"histogram2d\",\"colorbar\":{\"outlinewidth\":0,\"ticks\":\"\"},\"colorscale\":[[0.0,\"#0d0887\"],[0.1111111111111111,\"#46039f\"],[0.2222222222222222,\"#7201a8\"],[0.3333333333333333,\"#9c179e\"],[0.4444444444444444,\"#bd3786\"],[0.5555555555555556,\"#d8576b\"],[0.6666666666666666,\"#ed7953\"],[0.7777777777777778,\"#fb9f3a\"],[0.8888888888888888,\"#fdca26\"],[1.0,\"#f0f921\"]]}],\"heatmap\":[{\"type\":\"heatmap\",\"colorbar\":{\"outlinewidth\":0,\"ticks\":\"\"},\"colorscale\":[[0.0,\"#0d0887\"],[0.1111111111111111,\"#46039f\"],[0.2222222222222222,\"#7201a8\"],[0.3333333333333333,\"#9c179e\"],[0.4444444444444444,\"#bd3786\"],[0.5555555555555556,\"#d8576b\"],[0.6666666666666666,\"#ed7953\"],[0.7777777777777778,\"#fb9f3a\"],[0.8888888888888888,\"#fdca26\"],[1.0,\"#f0f921\"]]}],\"heatmapgl\":[{\"type\":\"heatmapgl\",\"colorbar\":{\"outlinewidth\":0,\"ticks\":\"\"},\"colorscale\":[[0.0,\"#0d0887\"],[0.1111111111111111,\"#46039f\"],[0.2222222222222222,\"#7201a8\"],[0.3333333333333333,\"#9c179e\"],[0.4444444444444444,\"#bd3786\"],[0.5555555555555556,\"#d8576b\"],[0.6666666666666666,\"#ed7953\"],[0.7777777777777778,\"#fb9f3a\"],[0.8888888888888888,\"#fdca26\"],[1.0,\"#f0f921\"]]}],\"contourcarpet\":[{\"type\":\"contourcarpet\",\"colorbar\":{\"outlinewidth\":0,\"ticks\":\"\"}}],\"contour\":[{\"type\":\"contour\",\"colorbar\":{\"outlinewidth\":0,\"ticks\":\"\"},\"colorscale\":[[0.0,\"#0d0887\"],[0.1111111111111111,\"#46039f\"],[0.2222222222222222,\"#7201a8\"],[0.3333333333333333,\"#9c179e\"],[0.4444444444444444,\"#bd3786\"],[0.5555555555555556,\"#d8576b\"],[0.6666666666666666,\"#ed7953\"],[0.7777777777777778,\"#fb9f3a\"],[0.8888888888888888,\"#fdca26\"],[1.0,\"#f0f921\"]]}],\"surface\":[{\"type\":\"surface\",\"colorbar\":{\"outlinewidth\":0,\"ticks\":\"\"},\"colorscale\":[[0.0,\"#0d0887\"],[0.1111111111111111,\"#46039f\"],[0.2222222222222222,\"#7201a8\"],[0.3333333333333333,\"#9c179e\"],[0.4444444444444444,\"#bd3786\"],[0.5555555555555556,\"#d8576b\"],[0.6666666666666666,\"#ed7953\"],[0.7777777777777778,\"#fb9f3a\"],[0.8888888888888888,\"#fdca26\"],[1.0,\"#f0f921\"]]}],\"mesh3d\":[{\"type\":\"mesh3d\",\"colorbar\":{\"outlinewidth\":0,\"ticks\":\"\"}}],\"scatter\":[{\"fillpattern\":{\"fillmode\":\"overlay\",\"size\":10,\"solidity\":0.2},\"type\":\"scatter\"}],\"parcoords\":[{\"type\":\"parcoords\",\"line\":{\"colorbar\":{\"outlinewidth\":0,\"ticks\":\"\"}}}],\"scatterpolargl\":[{\"type\":\"scatterpolargl\",\"marker\":{\"colorbar\":{\"outlinewidth\":0,\"ticks\":\"\"}}}],\"bar\":[{\"error_x\":{\"color\":\"#2a3f5f\"},\"error_y\":{\"color\":\"#2a3f5f\"},\"marker\":{\"line\":{\"color\":\"#E5ECF6\",\"width\":0.5},\"pattern\":{\"fillmode\":\"overlay\",\"size\":10,\"solidity\":0.2}},\"type\":\"bar\"}],\"scattergeo\":[{\"type\":\"scattergeo\",\"marker\":{\"colorbar\":{\"outlinewidth\":0,\"ticks\":\"\"}}}],\"scatterpolar\":[{\"type\":\"scatterpolar\",\"marker\":{\"colorbar\":{\"outlinewidth\":0,\"ticks\":\"\"}}}],\"histogram\":[{\"marker\":{\"pattern\":{\"fillmode\":\"overlay\",\"size\":10,\"solidity\":0.2}},\"type\":\"histogram\"}],\"scattergl\":[{\"type\":\"scattergl\",\"marker\":{\"colorbar\":{\"outlinewidth\":0,\"ticks\":\"\"}}}],\"scatter3d\":[{\"type\":\"scatter3d\",\"line\":{\"colorbar\":{\"outlinewidth\":0,\"ticks\":\"\"}},\"marker\":{\"colorbar\":{\"outlinewidth\":0,\"ticks\":\"\"}}}],\"scattermapbox\":[{\"type\":\"scattermapbox\",\"marker\":{\"colorbar\":{\"outlinewidth\":0,\"ticks\":\"\"}}}],\"scatterternary\":[{\"type\":\"scatterternary\",\"marker\":{\"colorbar\":{\"outlinewidth\":0,\"ticks\":\"\"}}}],\"scattercarpet\":[{\"type\":\"scattercarpet\",\"marker\":{\"colorbar\":{\"outlinewidth\":0,\"ticks\":\"\"}}}],\"carpet\":[{\"aaxis\":{\"endlinecolor\":\"#2a3f5f\",\"gridcolor\":\"white\",\"linecolor\":\"white\",\"minorgridcolor\":\"white\",\"startlinecolor\":\"#2a3f5f\"},\"baxis\":{\"endlinecolor\":\"#2a3f5f\",\"gridcolor\":\"white\",\"linecolor\":\"white\",\"minorgridcolor\":\"white\",\"startlinecolor\":\"#2a3f5f\"},\"type\":\"carpet\"}],\"table\":[{\"cells\":{\"fill\":{\"color\":\"#EBF0F8\"},\"line\":{\"color\":\"white\"}},\"header\":{\"fill\":{\"color\":\"#C8D4E3\"},\"line\":{\"color\":\"white\"}},\"type\":\"table\"}],\"barpolar\":[{\"marker\":{\"line\":{\"color\":\"#E5ECF6\",\"width\":0.5},\"pattern\":{\"fillmode\":\"overlay\",\"size\":10,\"solidity\":0.2}},\"type\":\"barpolar\"}],\"pie\":[{\"automargin\":true,\"type\":\"pie\"}]},\"layout\":{\"autotypenumbers\":\"strict\",\"colorway\":[\"#636efa\",\"#EF553B\",\"#00cc96\",\"#ab63fa\",\"#FFA15A\",\"#19d3f3\",\"#FF6692\",\"#B6E880\",\"#FF97FF\",\"#FECB52\"],\"font\":{\"color\":\"#2a3f5f\"},\"hovermode\":\"closest\",\"hoverlabel\":{\"align\":\"left\"},\"paper_bgcolor\":\"white\",\"plot_bgcolor\":\"#E5ECF6\",\"polar\":{\"bgcolor\":\"#E5ECF6\",\"angularaxis\":{\"gridcolor\":\"white\",\"linecolor\":\"white\",\"ticks\":\"\"},\"radialaxis\":{\"gridcolor\":\"white\",\"linecolor\":\"white\",\"ticks\":\"\"}},\"ternary\":{\"bgcolor\":\"#E5ECF6\",\"aaxis\":{\"gridcolor\":\"white\",\"linecolor\":\"white\",\"ticks\":\"\"},\"baxis\":{\"gridcolor\":\"white\",\"linecolor\":\"white\",\"ticks\":\"\"},\"caxis\":{\"gridcolor\":\"white\",\"linecolor\":\"white\",\"ticks\":\"\"}},\"coloraxis\":{\"colorbar\":{\"outlinewidth\":0,\"ticks\":\"\"}},\"colorscale\":{\"sequential\":[[0.0,\"#0d0887\"],[0.1111111111111111,\"#46039f\"],[0.2222222222222222,\"#7201a8\"],[0.3333333333333333,\"#9c179e\"],[0.4444444444444444,\"#bd3786\"],[0.5555555555555556,\"#d8576b\"],[0.6666666666666666,\"#ed7953\"],[0.7777777777777778,\"#fb9f3a\"],[0.8888888888888888,\"#fdca26\"],[1.0,\"#f0f921\"]],\"sequentialminus\":[[0.0,\"#0d0887\"],[0.1111111111111111,\"#46039f\"],[0.2222222222222222,\"#7201a8\"],[0.3333333333333333,\"#9c179e\"],[0.4444444444444444,\"#bd3786\"],[0.5555555555555556,\"#d8576b\"],[0.6666666666666666,\"#ed7953\"],[0.7777777777777778,\"#fb9f3a\"],[0.8888888888888888,\"#fdca26\"],[1.0,\"#f0f921\"]],\"diverging\":[[0,\"#8e0152\"],[0.1,\"#c51b7d\"],[0.2,\"#de77ae\"],[0.3,\"#f1b6da\"],[0.4,\"#fde0ef\"],[0.5,\"#f7f7f7\"],[0.6,\"#e6f5d0\"],[0.7,\"#b8e186\"],[0.8,\"#7fbc41\"],[0.9,\"#4d9221\"],[1,\"#276419\"]]},\"xaxis\":{\"gridcolor\":\"white\",\"linecolor\":\"white\",\"ticks\":\"\",\"title\":{\"standoff\":15},\"zerolinecolor\":\"white\",\"automargin\":true,\"zerolinewidth\":2},\"yaxis\":{\"gridcolor\":\"white\",\"linecolor\":\"white\",\"ticks\":\"\",\"title\":{\"standoff\":15},\"zerolinecolor\":\"white\",\"automargin\":true,\"zerolinewidth\":2},\"scene\":{\"xaxis\":{\"backgroundcolor\":\"#E5ECF6\",\"gridcolor\":\"white\",\"linecolor\":\"white\",\"showbackground\":true,\"ticks\":\"\",\"zerolinecolor\":\"white\",\"gridwidth\":2},\"yaxis\":{\"backgroundcolor\":\"#E5ECF6\",\"gridcolor\":\"white\",\"linecolor\":\"white\",\"showbackground\":true,\"ticks\":\"\",\"zerolinecolor\":\"white\",\"gridwidth\":2},\"zaxis\":{\"backgroundcolor\":\"#E5ECF6\",\"gridcolor\":\"white\",\"linecolor\":\"white\",\"showbackground\":true,\"ticks\":\"\",\"zerolinecolor\":\"white\",\"gridwidth\":2}},\"shapedefaults\":{\"line\":{\"color\":\"#2a3f5f\"}},\"annotationdefaults\":{\"arrowcolor\":\"#2a3f5f\",\"arrowhead\":0,\"arrowwidth\":1},\"geo\":{\"bgcolor\":\"white\",\"landcolor\":\"#E5ECF6\",\"subunitcolor\":\"white\",\"showland\":true,\"showlakes\":true,\"lakecolor\":\"white\"},\"title\":{\"x\":0.05},\"mapbox\":{\"style\":\"light\"}}},\"xaxis\":{\"anchor\":\"y\",\"domain\":[0.0,1.0],\"title\":{\"text\":\"case\"}},\"yaxis\":{\"anchor\":\"x\",\"domain\":[0.0,1.0],\"title\":{\"text\":\"value\"}},\"legend\":{\"title\":{\"text\":\"variable\"},\"tracegroupgap\":0},\"title\":{\"text\":\"Stacked Bar Chart\"},\"barmode\":\"relative\"},                        {\"responsive\": true}                    ).then(function(){\n",
       "                            \n",
       "var gd = document.getElementById('3528810b-58ae-4689-8125-45a8f9c09469');\n",
       "var x = new MutationObserver(function (mutations, observer) {{\n",
       "        var display = window.getComputedStyle(gd).display;\n",
       "        if (!display || display === 'none') {{\n",
       "            console.log([gd, 'removed!']);\n",
       "            Plotly.purge(gd);\n",
       "            observer.disconnect();\n",
       "        }}\n",
       "}});\n",
       "\n",
       "// Listen for the removal of the full notebook cells\n",
       "var notebookContainer = gd.closest('#notebook-container');\n",
       "if (notebookContainer) {{\n",
       "    x.observe(notebookContainer, {childList: true});\n",
       "}}\n",
       "\n",
       "// Listen for the clearing of the current output cell\n",
       "var outputEl = gd.closest('.output');\n",
       "if (outputEl) {{\n",
       "    x.observe(outputEl, {childList: true});\n",
       "}}\n",
       "\n",
       "                        })                };                });            </script>        </div>"
      ]
     },
     "metadata": {},
     "output_type": "display_data"
    }
   ],
   "source": [
    "# Data1とData2の積み上げ棒グラフを作成\n",
    "fig1 = px.bar(temp_df, x='case', y=['CONSTRUCTION_TIME_CARG','IMPROVEMENT_TIME_CARG'], title=\"Stacked Bar Chart\")\n",
    "\n",
    "# グラフの表示\n",
    "fig1.show()"
   ]
  },
  {
   "cell_type": "code",
   "execution_count": null,
   "metadata": {},
   "outputs": [],
   "source": []
  }
 ],
 "metadata": {
  "kernelspec": {
   "display_name": ".venv",
   "language": "python",
   "name": "python3"
  },
  "language_info": {
   "codemirror_mode": {
    "name": "ipython",
    "version": 3
   },
   "file_extension": ".py",
   "mimetype": "text/x-python",
   "name": "python",
   "nbconvert_exporter": "python",
   "pygments_lexer": "ipython3",
   "version": "3.9.8"
  }
 },
 "nbformat": 4,
 "nbformat_minor": 2
}
